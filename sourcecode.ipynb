{
  "nbformat": 4,
  "nbformat_minor": 0,
  "metadata": {
    "colab": {
      "name": "sourcescode.ipynb",
      "provenance": [],
      "collapsed_sections": [],
      "toc_visible": true
    },
    "kernelspec": {
      "name": "python3",
      "display_name": "Python 3"
    },
    "accelerator": "GPU"
  },
  "cells": [
    {
      "cell_type": "markdown",
      "metadata": {
        "id": "M69MSD3dKvqC",
        "colab_type": "text"
      },
      "source": [
        "# Reading Data & Statistics\n"
      ]
    },
    {
      "cell_type": "code",
      "metadata": {
        "id": "JsNnvEftKcNm",
        "colab_type": "code",
        "colab": {}
      },
      "source": [
        "# Readingdata\n",
        "import pandas as pd\n",
        "dataset=pd.read_csv(\"newdata.csv\")"
      ],
      "execution_count": 1,
      "outputs": []
    },
    {
      "cell_type": "code",
      "metadata": {
        "id": "4SFsUZ60LGnp",
        "colab_type": "code",
        "colab": {
          "base_uri": "https://localhost:8080/",
          "height": 265
        },
        "outputId": "d0a12058-e9e7-4f1e-dd60-0f63c0f06cda"
      },
      "source": [
        "# Size\n",
        "print(dataset)"
      ],
      "execution_count": 2,
      "outputs": [
        {
          "output_type": "stream",
          "text": [
            "                                                   text  label\n",
            "0                                This song is LEGANDARY      1\n",
            "1                                             Nice song      1\n",
            "2     billion views face with raised eyebrow this so...      1\n",
            "3                                            Nice video      1\n",
            "4     Who else imagined themselves being Justin beib...      1\n",
            "...                                                 ...    ...\n",
            "1051                      At it says I be watching porn      3\n",
            "1052                            I don t like you at all      3\n",
            "1053                                         disturbing      3\n",
            "1054            I came here only for dislake this video      3\n",
            "1055  we don t wanna see them do unholy things like ...      3\n",
            "\n",
            "[1056 rows x 2 columns]\n"
          ],
          "name": "stdout"
        }
      ]
    },
    {
      "cell_type": "code",
      "metadata": {
        "id": "3hdCqRO0R5lb",
        "colab_type": "code",
        "colab": {
          "base_uri": "https://localhost:8080/",
          "height": 293
        },
        "outputId": "caa9d71b-1426-4d5c-f673-05e0a1d2594a"
      },
      "source": [
        "# Label count of type\n",
        "from nltk.probability import FreqDist\n",
        "fdist = FreqDist(dataset.label)\n",
        "print(fdist)\n",
        "fdist.plot(3)"
      ],
      "execution_count": 3,
      "outputs": [
        {
          "output_type": "stream",
          "text": [
            "<FreqDist with 3 samples and 1056 outcomes>\n"
          ],
          "name": "stdout"
        },
        {
          "output_type": "display_data",
          "data": {
            "image/png": "[encoded data removed]",
            "text/plain": [
              "<Figure size 432x288 with 1 Axes>"
            ]
          },
          "metadata": {
            "tags": [],
            "needs_background": "light"
          }
        }
      ]
    },
    {
      "cell_type": "code",
      "metadata": {
        "id": "hDmeW_WEPtwF",
        "colab_type": "code",
        "colab": {}
      },
      "source": [
        "# StatisticsFunction\n",
        "\n",
        "def stat(data):\n",
        "  new_corpus = []\n",
        "  for review in data:\n",
        "      review = review.split()\n",
        "      new_corpus.extend(review) \n",
        "  fdist = FreqDist(new_corpus)\n",
        "  print(fdist)\n",
        "  fdist.plot(20)\n",
        "def tail_stat(data):\n",
        "  new_corpus = []\n",
        "  for review in data:\n",
        "      review = review.split()\n",
        "      new_corpus.extend(review) \n",
        "  fdist = FreqDist(new_corpus)\n",
        "  a = fdist.hapaxes()\n",
        "  fdist2 = FreqDist(a)\n",
        "  print(fdist2)\n",
        "  fdist2.plot(20)"
      ],
      "execution_count": 4,
      "outputs": []
    },
    {
      "cell_type": "code",
      "metadata": {
        "id": "V8ELKmc6REdz",
        "colab_type": "code",
        "colab": {
          "base_uri": "https://localhost:8080/",
          "height": 323
        },
        "outputId": "91faeaca-e1c1-44e8-fd87-ea2c1912adfb"
      },
      "source": [
        "# Text count of word\n",
        "stat(dataset.text)\n"
      ],
      "execution_count": 5,
      "outputs": [
        {
          "output_type": "stream",
          "text": [
            "<FreqDist with 1860 samples and 10676 outcomes>\n"
          ],
          "name": "stdout"
        },
        {
          "output_type": "display_data",
          "data": {
            "image/png": "[encoded data removed]",
            "text/plain": [
              "<Figure size 432x288 with 1 Axes>"
            ]
          },
          "metadata": {
            "tags": [],
            "needs_background": "light"
          }
        }
      ]
    },
    {
      "cell_type": "markdown",
      "metadata": {
        "id": "96BFjDzWU5vS",
        "colab_type": "text"
      },
      "source": [
        "# Preprocessing"
      ]
    },
    {
      "cell_type": "code",
      "metadata": {
        "id": "7KG4CPn6Mxfp",
        "colab_type": "code",
        "colab": {
          "base_uri": "https://localhost:8080/",
          "height": 52
        },
        "outputId": "5efb29f2-a438-4d79-bd7c-543d7643b36d"
      },
      "source": [
        "# Cleaning data\n",
        "import nltk\n",
        "import re\n",
        "nltk.download(\"stopwords\")\n",
        "from nltk.corpus import stopwords\n",
        "from nltk.stem.porter import PorterStemmer\n",
        "\n",
        "corpus = []\n",
        "\n",
        "for review in dataset.values[:,0]:\n",
        "    review = re.sub(\"[^a-zA-Z]\", \" \", review)\n",
        "    review = re.sub(r'([A-Z])\\1+', lambda m: m.group(1),review,flags=re.IGNORECASE)\n",
        "    review = review.split()\n",
        "    ps = PorterStemmer()\n",
        "    review = [ps.stem(word) for word in review if word not in stopwords.words(\"english\")]\n",
        "    review = \" \".join(review)\n",
        "    corpus.append(review)"
      ],
      "execution_count": 6,
      "outputs": [
        {
          "output_type": "stream",
          "text": [
            "[nltk_data] Downloading package stopwords to /root/nltk_data...\n",
            "[nltk_data]   Unzipping corpora/stopwords.zip.\n"
          ],
          "name": "stdout"
        }
      ]
    },
    {
      "cell_type": "code",
      "metadata": {
        "id": "VkS3mGnONO6x",
        "colab_type": "code",
        "colab": {
          "base_uri": "https://localhost:8080/",
          "height": 52
        },
        "outputId": "3bd98201-b0c0-418b-c9c7-04f12bb05486"
      },
      "source": [
        "print(dataset.text[1000])\n",
        "print(corpus[1000])"
      ],
      "execution_count": 7,
      "outputs": [
        {
          "output_type": "stream",
          "text": [
            "this was the justin i hated at first sight before knowing him\n",
            "justin hate first sight know\n"
          ],
          "name": "stdout"
        }
      ]
    },
    {
      "cell_type": "code",
      "metadata": {
        "id": "n42AYuArNo1R",
        "colab_type": "code",
        "colab": {
          "base_uri": "https://localhost:8080/",
          "height": 318
        },
        "outputId": "b36bceba-c0b4-4fe2-ad8b-91a126ce5c0f"
      },
      "source": [
        "stat(corpus)"
      ],
      "execution_count": 8,
      "outputs": [
        {
          "output_type": "stream",
          "text": [
            "<FreqDist with 1281 samples and 7081 outcomes>\n"
          ],
          "name": "stdout"
        },
        {
          "output_type": "display_data",
          "data": {
            "image/png": "[encoded data removed]",
            "text/plain": [
              "<Figure size 432x288 with 1 Axes>"
            ]
          },
          "metadata": {
            "tags": [],
            "needs_background": "light"
          }
        }
      ]
    },
    {
      "cell_type": "code",
      "metadata": {
        "id": "zrj1W8H9yw9x",
        "colab_type": "code",
        "colab": {
          "base_uri": "https://localhost:8080/",
          "height": 334
        },
        "outputId": "44d6dfcf-9666-4fb6-c0b5-68b646e85a2c"
      },
      "source": [
        "tail_stat(corpus)"
      ],
      "execution_count": 9,
      "outputs": [
        {
          "output_type": "stream",
          "text": [
            "<FreqDist with 677 samples and 677 outcomes>\n"
          ],
          "name": "stdout"
        },
        {
          "output_type": "display_data",
          "data": {
            "image/png": "[encoded data removed]",
            "text/plain": [
              "<Figure size 432x288 with 1 Axes>"
            ]
          },
          "metadata": {
            "tags": [],
            "needs_background": "light"
          }
        }
      ]
    },
    {
      "cell_type": "code",
      "metadata": {
        "id": "08vZ1LNEVY1a",
        "colab_type": "code",
        "colab": {}
      },
      "source": [
        "# Convert to vector\n",
        "from sklearn.feature_extraction.text import CountVectorizer\n",
        "cv = CountVectorizer()\n",
        "X = cv.fit_transform(corpus)\n",
        "X = X.todense()"
      ],
      "execution_count": 10,
      "outputs": []
    },
    {
      "cell_type": "code",
      "metadata": {
        "id": "4QuOCKMPy-Re",
        "colab_type": "code",
        "colab": {
          "base_uri": "https://localhost:8080/",
          "height": 34
        },
        "outputId": "7c7c51c6-85b6-4d39-9f51-2da513217e8e"
      },
      "source": [
        "print(X.shape)"
      ],
      "execution_count": 11,
      "outputs": [
        {
          "output_type": "stream",
          "text": [
            "(1056, 1221)\n"
          ],
          "name": "stdout"
        }
      ]
    },
    {
      "cell_type": "code",
      "metadata": {
        "id": "IYFIB3sDWbuY",
        "colab_type": "code",
        "colab": {}
      },
      "source": [
        "# parameter adjustment\n",
        "cv = CountVectorizer(max_features=1000)\n",
        "X = cv.fit_transform(corpus)\n",
        "X = X.todense()"
      ],
      "execution_count": 12,
      "outputs": []
    },
    {
      "cell_type": "code",
      "metadata": {
        "id": "Nc_WhiUKzDzT",
        "colab_type": "code",
        "colab": {
          "base_uri": "https://localhost:8080/",
          "height": 34
        },
        "outputId": "5c4da013-ca45-4c0c-bda4-8df27c2852e6"
      },
      "source": [
        "print(X.shape)"
      ],
      "execution_count": 13,
      "outputs": [
        {
          "output_type": "stream",
          "text": [
            "(1056, 1000)\n"
          ],
          "name": "stdout"
        }
      ]
    },
    {
      "cell_type": "markdown",
      "metadata": {
        "id": "VDfEIS8hzi2K",
        "colab_type": "text"
      },
      "source": [
        "# Building Model"
      ]
    },
    {
      "cell_type": "code",
      "metadata": {
        "id": "ndMyMbxPtIgL",
        "colab_type": "code",
        "colab": {
          "base_uri": "https://localhost:8080/",
          "height": 1000
        },
        "outputId": "1c225779-6a08-4dfa-b315-740df039568a"
      },
      "source": [
        "# Trainning model with cross validation\n",
        "from sklearn.linear_model import LogisticRegression\n",
        "from sklearn.naive_bayes import MultinomialNB\n",
        "from sklearn.svm import SVC\n",
        "from sklearn.model_selection import StratifiedShuffleSplit\n",
        "\n",
        "Y = dataset.iloc[:,1].values\n",
        "sss = StratifiedShuffleSplit(n_splits=10, test_size=0.2, random_state=0)\n",
        "sss.get_n_splits(X,Y)\n",
        "\n",
        "maxscore_1 = 0\n",
        "maxscore_2 = 0\n",
        "maxscore_3 = 0\n",
        "trainset1 = []\n",
        "testset1 = []\n",
        "trainset2 = []\n",
        "testset2 = []\n",
        "trainset3 = []\n",
        "testset3 = []\n",
        "for train_index, test_index in sss.split(X,Y):\n",
        "      X_train, X_test = X[train_index], X[test_index]\n",
        "      Y_train, Y_test = Y[train_index], Y[test_index]\n",
        "\n",
        "      model_1 = LogisticRegression(random_state=0)\n",
        "      model_1.fit(X_train, Y_train)\n",
        "    \n",
        "      model_2 = SVC(kernel='linear')\n",
        "      model_2.fit(X_train, Y_train)\n",
        "\n",
        "      model_3 = MultinomialNB()\n",
        "      model_3.fit(X_train, Y_train)\n",
        "      \n",
        "      if (maxscore_1 < model_1.score(X_test, Y_test)):\n",
        "          maxscore_1 = model_1.score(X_test, Y_test)\n",
        "          trainset1 = [train_index] \n",
        "          testset1 = [test_index]\n",
        "      if (maxscore_2 < model_2.score(X_test, Y_test)):\n",
        "          maxscore_2 = model_2.score(X_test, Y_test)\n",
        "          trainset2 = [train_index]\n",
        "          testset2 = [test_index]\n",
        "      if (maxscore_3 < model_3.score(X_test, Y_test)):\n",
        "          maxscore_3 = model_3.score(X_test, Y_test)\n",
        "          trainset3 = [train_index]\n",
        "          testset3 = [test_index]  \n",
        "      print(\"Logistic\")\n",
        "      print(model_1.score(X_train, Y_train))\n",
        "      print(model_1.score(X_test, Y_test))\n",
        "      \n",
        "      print(\"Support Vector Machine\")\n",
        "      print(model_2.score(X_train, Y_train))\n",
        "      print(model_2.score(X_test, Y_test))\n",
        "\n",
        "      print(\"MultinomialNB\")\n",
        "      print(model_3.score(X_train, Y_train))\n",
        "      print(model_3.score(X_test, Y_test))\n",
        "      print(\"===============\")"
      ],
      "execution_count": 14,
      "outputs": [
        {
          "output_type": "stream",
          "text": [
            "Logistic\n",
            "0.9727488151658767\n",
            "0.8113207547169812\n",
            "Support Vector Machine\n",
            "0.9739336492890995\n",
            "0.8207547169811321\n",
            "MultinomialNB\n",
            "0.9229857819905213\n",
            "0.8066037735849056\n",
            "===============\n",
            "Logistic\n",
            "0.9691943127962085\n",
            "0.7830188679245284\n",
            "Support Vector Machine\n",
            "0.9774881516587678\n",
            "0.7783018867924528\n",
            "MultinomialNB\n",
            "0.9253554502369669\n",
            "0.7641509433962265\n",
            "===============\n",
            "Logistic\n",
            "0.9774881516587678\n",
            "0.7311320754716981\n",
            "Support Vector Machine\n",
            "0.9834123222748815\n",
            "0.7311320754716981\n",
            "MultinomialNB\n",
            "0.9312796208530806\n",
            "0.7594339622641509\n",
            "===============\n",
            "Logistic\n",
            "0.9727488151658767\n",
            "0.8113207547169812\n",
            "Support Vector Machine\n",
            "0.9786729857819905\n",
            "0.7783018867924528\n",
            "MultinomialNB\n",
            "0.919431279620853\n",
            "0.7971698113207547\n",
            "===============\n",
            "Logistic\n",
            "0.9691943127962085\n",
            "0.7924528301886793\n",
            "Support Vector Machine\n",
            "0.981042654028436\n",
            "0.7594339622641509\n",
            "MultinomialNB\n",
            "0.9253554502369669\n",
            "0.8018867924528302\n",
            "===============\n",
            "Logistic\n",
            "0.9680094786729858\n",
            "0.7735849056603774\n",
            "Support Vector Machine\n",
            "0.9739336492890995\n",
            "0.7641509433962265\n",
            "MultinomialNB\n",
            "0.9206161137440758\n",
            "0.7830188679245284\n",
            "===============\n",
            "Logistic\n",
            "0.9715639810426541\n",
            "0.7924528301886793\n",
            "Support Vector Machine\n",
            "0.9739336492890995\n",
            "0.7783018867924528\n",
            "MultinomialNB\n",
            "0.9265402843601895\n",
            "0.7877358490566038\n",
            "===============\n",
            "Logistic\n",
            "0.9739336492890995\n",
            "0.8018867924528302\n",
            "Support Vector Machine\n",
            "0.9798578199052133\n",
            "0.7877358490566038\n",
            "MultinomialNB\n",
            "0.919431279620853\n",
            "0.7877358490566038\n",
            "===============\n",
            "Logistic\n",
            "0.9751184834123223\n",
            "0.8018867924528302\n",
            "Support Vector Machine\n",
            "0.9834123222748815\n",
            "0.7830188679245284\n",
            "MultinomialNB\n",
            "0.9289099526066351\n",
            "0.8301886792452831\n",
            "===============\n",
            "Logistic\n",
            "0.9691943127962085\n",
            "0.7641509433962265\n",
            "Support Vector Machine\n",
            "0.9680094786729858\n",
            "0.7547169811320755\n",
            "MultinomialNB\n",
            "0.9253554502369669\n",
            "0.7924528301886793\n",
            "===============\n"
          ],
          "name": "stdout"
        }
      ]
    },
    {
      "cell_type": "code",
      "metadata": {
        "id": "y13j7oLEtXXA",
        "colab_type": "code",
        "colab": {
          "base_uri": "https://localhost:8080/",
          "height": 1000
        },
        "outputId": "2970d044-2472-4807-e8d9-ae7a0e578160"
      },
      "source": [
        "print(testset1)\n",
        "print(testset2)\n",
        "print(testset3)\n"
      ],
      "execution_count": 15,
      "outputs": [
        {
          "output_type": "stream",
          "text": [
            "[array([ 730,  572,  591,  358,  127,  974,  911,  285,  404,  581,  544,\n",
            "        731,  211,  520,  458, 1019,  954,  969,  735,  739,  877,  823,\n",
            "         25,  910,  452,   39,  876,  420,  968,  630,  941,  915,  174,\n",
            "       1050,  840,   28,  589,  742,  942,  856,  621,  918,   31,  901,\n",
            "        881,  468,  770,    9,  192,  119,  549,  798,  265,  147,   84,\n",
            "        681,  481,  716,  185,  845,  496,  643,  449,  323,  183,  121,\n",
            "        820,  243,  837, 1053, 1054,  997,   91,  356,  290,  702,  431,\n",
            "        557, 1045,  896,  888,  195,  873,  530,   70,  244, 1035,  596,\n",
            "        273,  904,  359,  774,  484,  822,  905,  594,  131,  919,  337,\n",
            "        844,  828,  670,  423,  585,  335,  277,  809,  105,  662,  676,\n",
            "        692,  761, 1002,  446,  661,  388,  571,  677,  165,  177,  696,\n",
            "        338,  242,  808,  607,  613,  801,  835,  976,  292,  841,  117,\n",
            "        389,  861,   47,  472,  203,  752,  128,  524,  703,  683,  617,\n",
            "        444,   88,  688,  398,  587,  983,  465,   72,  595,  767,  448,\n",
            "        480,  396,  892,  262,  555,  267,   87,  376,  202,  115,   57,\n",
            "        321,  197,   38,   53,  996,  724,  588,  962,  874,  502,  193,\n",
            "        854,  384,  603,  291,  866,  151,  646,  454,  314,  432,  324,\n",
            "         42,   82,  462,  442,  464,  671,  180,  163,  251,  853,  435,\n",
            "        704,   32,   99,  939,  333,  705,  257,  288,  536,  991,  172,\n",
            "        616,  656,  370])]\n",
            "[array([ 730,  572,  591,  358,  127,  974,  911,  285,  404,  581,  544,\n",
            "        731,  211,  520,  458, 1019,  954,  969,  735,  739,  877,  823,\n",
            "         25,  910,  452,   39,  876,  420,  968,  630,  941,  915,  174,\n",
            "       1050,  840,   28,  589,  742,  942,  856,  621,  918,   31,  901,\n",
            "        881,  468,  770,    9,  192,  119,  549,  798,  265,  147,   84,\n",
            "        681,  481,  716,  185,  845,  496,  643,  449,  323,  183,  121,\n",
            "        820,  243,  837, 1053, 1054,  997,   91,  356,  290,  702,  431,\n",
            "        557, 1045,  896,  888,  195,  873,  530,   70,  244, 1035,  596,\n",
            "        273,  904,  359,  774,  484,  822,  905,  594,  131,  919,  337,\n",
            "        844,  828,  670,  423,  585,  335,  277,  809,  105,  662,  676,\n",
            "        692,  761, 1002,  446,  661,  388,  571,  677,  165,  177,  696,\n",
            "        338,  242,  808,  607,  613,  801,  835,  976,  292,  841,  117,\n",
            "        389,  861,   47,  472,  203,  752,  128,  524,  703,  683,  617,\n",
            "        444,   88,  688,  398,  587,  983,  465,   72,  595,  767,  448,\n",
            "        480,  396,  892,  262,  555,  267,   87,  376,  202,  115,   57,\n",
            "        321,  197,   38,   53,  996,  724,  588,  962,  874,  502,  193,\n",
            "        854,  384,  603,  291,  866,  151,  646,  454,  314,  432,  324,\n",
            "         42,   82,  462,  442,  464,  671,  180,  163,  251,  853,  435,\n",
            "        704,   32,   99,  939,  333,  705,  257,  288,  536,  991,  172,\n",
            "        616,  656,  370])]\n",
            "[array([ 738,  951,  250,  287,  740,  763,  823,  729,  690,  160,  909,\n",
            "        442, 1041,  871,  604,  270,   23,   25,  473,  936,  412,  641,\n",
            "         67,  446,  245,  303,  731,  698,  649,  110,  760,  164,  902,\n",
            "        683,  827,  198,  896, 1006,    3,  620,  378,  647,  348,  877,\n",
            "        993, 1016,  204,  929,  888,  742,  286,  247,  944,  569,  530,\n",
            "        320,   15,  790,  546,  312,  573, 1031,  637,  500,    1,  276,\n",
            "       1000,  406, 1055,   61, 1032,  531,  145,  844,   31,  611,  706,\n",
            "        152,  368,  832, 1015,   53, 1036,  101,   13,  374,   14,  652,\n",
            "        616,  242,  334,  654,  601,  432, 1025,  291,  118,  517,  525,\n",
            "        905,  419,  107,  389,  455,  665,  459,  349,  388,    8,  973,\n",
            "        201,  596,  209,  701,   94,  339,  462,  382,  927,   48,  964,\n",
            "        939,  213,  653,  556,  915,  848,  451,  638,  837, 1034,  876,\n",
            "        744,  138,  774,  392,  810,  603,  549,  737,  535,  207,  260,\n",
            "        718,  558,   16,  173,  305,  858, 1039,  114,  325, 1048,  650,\n",
            "        228,  974,  367,  843,  461,   42,  212,  686,   43,   24,  916,\n",
            "        353,  205,  421,  696,  241,  330,  360,  280,  677,  697,  986,\n",
            "       1033,  899,  667,  423,  937,  966,  268,   52,  338,  143,  779,\n",
            "       1027,  912, 1043,  251,  379,  192,  362,  691,  391,  733,  154,\n",
            "        515,   28,   11,  304,  898, 1029,  538,  175,  541,  343,  890,\n",
            "        917,  479,  932])]\n"
          ],
          "name": "stdout"
        }
      ]
    },
    {
      "cell_type": "code",
      "metadata": {
        "id": "UOqCmNmqtzIc",
        "colab_type": "code",
        "colab": {
          "base_uri": "https://localhost:8080/",
          "height": 196
        },
        "outputId": "d5725f24-b39d-4a1b-a220-5ea7b7650093"
      },
      "source": [
        "# Building Model\n",
        "X_train1, X_test1= X[trainset1], X[testset1]\n",
        "Y_train1, Y_test1= Y[trainset1], Y[testset1]\n",
        "\n",
        "X_train2, X_test2= X[trainset2], X[testset2]\n",
        "Y_train2, Y_test2= Y[trainset2], Y[testset2]\n",
        "\n",
        "X_train3, X_test3= X[trainset3], X[testset3]\n",
        "Y_train3, Y_test3= Y[trainset3], Y[testset3]\n",
        "\n",
        "model_1 = LogisticRegression(random_state=0)\n",
        "model_1.fit(X_train1, Y_train1)   \n",
        "model_2 = SVC(kernel='linear')\n",
        "model_2.fit(X_train2, Y_train2)\n",
        "model_3 = MultinomialNB()\n",
        "model_3.fit(X_train3, Y_train3)"
      ],
      "execution_count": 16,
      "outputs": [
        {
          "output_type": "stream",
          "text": [
            "/usr/local/lib/python3.6/dist-packages/numpy/matrixlib/defmatrix.py:195: FutureWarning: Using a non-tuple sequence for multidimensional indexing is deprecated; use `arr[tuple(seq)]` instead of `arr[seq]`. In the future this will be interpreted as an array index, `arr[np.array(seq)]`, which will result either in an error or a different result.\n",
            "  out = N.ndarray.__getitem__(self, index)\n",
            "/usr/local/lib/python3.6/dist-packages/ipykernel_launcher.py:3: FutureWarning: Using a non-tuple sequence for multidimensional indexing is deprecated; use `arr[tuple(seq)]` instead of `arr[seq]`. In the future this will be interpreted as an array index, `arr[np.array(seq)]`, which will result either in an error or a different result.\n",
            "  This is separate from the ipykernel package so we can avoid doing imports until\n",
            "/usr/local/lib/python3.6/dist-packages/ipykernel_launcher.py:6: FutureWarning: Using a non-tuple sequence for multidimensional indexing is deprecated; use `arr[tuple(seq)]` instead of `arr[seq]`. In the future this will be interpreted as an array index, `arr[np.array(seq)]`, which will result either in an error or a different result.\n",
            "  \n",
            "/usr/local/lib/python3.6/dist-packages/ipykernel_launcher.py:9: FutureWarning: Using a non-tuple sequence for multidimensional indexing is deprecated; use `arr[tuple(seq)]` instead of `arr[seq]`. In the future this will be interpreted as an array index, `arr[np.array(seq)]`, which will result either in an error or a different result.\n",
            "  if __name__ == '__main__':\n"
          ],
          "name": "stderr"
        },
        {
          "output_type": "execute_result",
          "data": {
            "text/plain": [
              "MultinomialNB(alpha=1.0, class_prior=None, fit_prior=True)"
            ]
          },
          "metadata": {
            "tags": []
          },
          "execution_count": 16
        }
      ]
    },
    {
      "cell_type": "markdown",
      "metadata": {
        "id": "TMU62govy3VT",
        "colab_type": "text"
      },
      "source": [
        "# Result"
      ]
    },
    {
      "cell_type": "code",
      "metadata": {
        "id": "NI8PPDYUjZrH",
        "colab_type": "code",
        "colab": {
          "base_uri": "https://localhost:8080/",
          "height": 123
        },
        "outputId": "410d0a54-4c7e-477a-93d2-ac43de8a516e"
      },
      "source": [
        "# AccuracyScore\n",
        "print(\"Logistic\")\n",
        "print(model_1.score(X_test1, Y_test1))\n",
        "print(\"Support Vector Machine\")\n",
        "print(model_2.score(X_test2, Y_test2))\n",
        "print(\"MultinomialNB\")\n",
        "print(model_3.score(X_test3, Y_test3))"
      ],
      "execution_count": 17,
      "outputs": [
        {
          "output_type": "stream",
          "text": [
            "Logistic\n",
            "0.8113207547169812\n",
            "Support Vector Machine\n",
            "0.8207547169811321\n",
            "MultinomialNB\n",
            "0.8301886792452831\n"
          ],
          "name": "stdout"
        }
      ]
    },
    {
      "cell_type": "code",
      "metadata": {
        "id": "ZqyWC3pqkSUV",
        "colab_type": "code",
        "colab": {
          "base_uri": "https://localhost:8080/",
          "height": 603
        },
        "outputId": "4cb670d9-f0f4-49aa-e231-30d6b7c74182"
      },
      "source": [
        "# Classification Report\n",
        "y_pred_1 = model_1.predict(X_test1)\n",
        "y_pred_2 = model_2.predict(X_test2)\n",
        "y_pred_3 = model_3.predict(X_test3)\n",
        "from sklearn.metrics import classification_report\n",
        "print(\"Logistic\")\n",
        "print(classification_report(Y_test1, y_pred_1, labels=[1, 2, 3]))\n",
        "print(\"Support Vector Machine\")\n",
        "print(classification_report(Y_test2, y_pred_2, labels=[1, 2, 3]))\n",
        "print(\"MultinomialNB\")\n",
        "print(classification_report(Y_test3, y_pred_3, labels=[1, 2, 3]))"
      ],
      "execution_count": 18,
      "outputs": [
        {
          "output_type": "stream",
          "text": [
            "Logistic\n",
            "              precision    recall  f1-score   support\n",
            "\n",
            "           1       0.87      0.85      0.86       100\n",
            "           2       0.76      0.70      0.73        53\n",
            "           3       0.77      0.85      0.81        59\n",
            "\n",
            "    accuracy                           0.81       212\n",
            "   macro avg       0.80      0.80      0.80       212\n",
            "weighted avg       0.81      0.81      0.81       212\n",
            "\n",
            "Support Vector Machine\n",
            "              precision    recall  f1-score   support\n",
            "\n",
            "           1       0.87      0.86      0.86       100\n",
            "           2       0.77      0.70      0.73        53\n",
            "           3       0.78      0.86      0.82        59\n",
            "\n",
            "    accuracy                           0.82       212\n",
            "   macro avg       0.81      0.81      0.81       212\n",
            "weighted avg       0.82      0.82      0.82       212\n",
            "\n",
            "MultinomialNB\n",
            "              precision    recall  f1-score   support\n",
            "\n",
            "           1       0.88      0.91      0.89       100\n",
            "           2       0.75      0.81      0.78        53\n",
            "           3       0.82      0.71      0.76        59\n",
            "\n",
            "    accuracy                           0.83       212\n",
            "   macro avg       0.82      0.81      0.81       212\n",
            "weighted avg       0.83      0.83      0.83       212\n",
            "\n"
          ],
          "name": "stdout"
        }
      ]
    },
    {
      "cell_type": "code",
      "metadata": {
        "id": "WGr53fCHWbTF",
        "colab_type": "code",
        "colab": {
          "base_uri": "https://localhost:8080/",
          "height": 906
        },
        "outputId": "f7dda357-511d-4206-82e9-4f4d7a3c66a2"
      },
      "source": [
        "# Confusion matrix\n",
        "#Calculate Confusion Matrix on Test set\n",
        "from matplotlib import pyplot as plt\n",
        "import seaborn as sb\n",
        "from sklearn.metrics import confusion_matrix\n",
        "cm_test_log = confusion_matrix(Y_test1, y_pred_1)\n",
        "cm_test_svm = confusion_matrix(Y_test2, y_pred_2)\n",
        "cm_test_multi = confusion_matrix(Y_test3, y_pred_3)\n",
        "#Plot Confusion Matrix on Test set\n",
        "#plot_confusion_matrix(classifier,X_train,Y_train)\n",
        "sb.heatmap(cm_test_log, annot = True, fmt = 'g', cmap = 'Blues', annot_kws = {\"size\": 40},yticklabels=[\"1\", \"2\", \"3\"],xticklabels=[\"1\", \"2\", \"3\"])\n",
        "plt.title(\"Test - LR\")\n",
        "plt.xlabel(\"Predicted\")\n",
        "plt.ylabel(\"Actual\")\n",
        "plt.show()\n",
        "sb.heatmap(cm_test_svm, annot = True, fmt = 'g', cmap = 'Blues', annot_kws = {\"size\": 40},yticklabels=[\"1\", \"2\", \"3\"],xticklabels=[\"1\", \"2\", \"3\"])\n",
        "plt.title(\"Test - SVM\")\n",
        "plt.xlabel(\"Predicted\")\n",
        "plt.ylabel(\"Actual\")\n",
        "plt.show()\n",
        "sb.heatmap(cm_test_multi, annot = True, fmt = 'g', cmap = 'Blues', annot_kws = {\"size\": 40},yticklabels=[\"1\", \"2\", \"3\"],xticklabels=[\"1\", \"2\", \"3\"])\n",
        "plt.title(\"Test - Multi\")\n",
        "plt.xlabel(\"Predicted\")\n",
        "plt.ylabel(\"Actual\")\n",
        "plt.show()"
      ],
      "execution_count": 19,
      "outputs": [
        {
          "output_type": "stream",
          "text": [
            "/usr/local/lib/python3.6/dist-packages/statsmodels/tools/_testing.py:19: FutureWarning: pandas.util.testing is deprecated. Use the functions in the public API at pandas.testing instead.\n",
            "  import pandas.util.testing as tm\n"
          ],
          "name": "stderr"
        },
        {
          "output_type": "display_data",
          "data": {
            "image/png": "[encoded data removed]",
            "text/plain": [
              "<Figure size 432x288 with 2 Axes>"
            ]
          },
          "metadata": {
            "tags": [],
            "needs_background": "light"
          }
        },
        {
          "output_type": "display_data",
          "data": {
            "image/png": "[encoded data removed]",
            "text/plain": [
              "<Figure size 432x288 with 2 Axes>"
            ]
          },
          "metadata": {
            "tags": [],
            "needs_background": "light"
          }
        },
        {
          "output_type": "display_data",
          "data": {
            "image/png": "[encoded data removed]",
            "text/plain": [
              "<Figure size 432x288 with 2 Axes>"
            ]
          },
          "metadata": {
            "tags": [],
            "needs_background": "light"
          }
        }
      ]
    }
  ]
}