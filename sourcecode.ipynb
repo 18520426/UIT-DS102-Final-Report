{
  "nbformat": 4,
  "nbformat_minor": 0,
  "metadata": {
    "colab": {
      "name": "Untitled7.ipynb",
      "provenance": [],
      "collapsed_sections": []
    },
    "kernelspec": {
      "name": "python3",
      "display_name": "Python 3"
    },
    "accelerator": "GPU"
  },
  "cells": [
    {
      "cell_type": "markdown",
      "metadata": {
        "id": "M69MSD3dKvqC",
        "colab_type": "text"
      },
      "source": [
        "Reading Data & Statistics\n"
      ]
    },
    {
      "cell_type": "code",
      "metadata": {
        "id": "JsNnvEftKcNm",
        "colab_type": "code",
        "colab": {}
      },
      "source": [
        "# Readingdata\n",
        "import pandas as pd\n",
        "dataset=pd.read_csv(\"newdata.csv\")"
      ],
      "execution_count": 114,
      "outputs": []
    },
    {
      "cell_type": "code",
      "metadata": {
        "id": "4SFsUZ60LGnp",
        "colab_type": "code",
        "colab": {
          "base_uri": "https://localhost:8080/",
          "height": 255
        },
        "outputId": "7fb3ae0c-10d7-485c-ca30-fb526fc7cdd3"
      },
      "source": [
        "# Size\n",
        "print(dataset)"
      ],
      "execution_count": 115,
      "outputs": [
        {
          "output_type": "stream",
          "text": [
            "                                                   text  label\n",
            "0                                This song is LEGANDARY      1\n",
            "1                                             Nice song      1\n",
            "2     billion views face with raised eyebrow this so...      1\n",
            "3                                            Nice video      1\n",
            "4     Who else imagined themselves being Justin beib...      1\n",
            "...                                                 ...    ...\n",
            "1051                      At it says I be watching porn      3\n",
            "1052                            I don t like you at all      3\n",
            "1053                                         disturbing      3\n",
            "1054            I came here only for dislake this video      3\n",
            "1055  we don t wanna see them do unholy things like ...      3\n",
            "\n",
            "[1056 rows x 2 columns]\n"
          ],
          "name": "stdout"
        }
      ]
    },
    {
      "cell_type": "code",
      "metadata": {
        "id": "3hdCqRO0R5lb",
        "colab_type": "code",
        "colab": {
          "base_uri": "https://localhost:8080/",
          "height": 293
        },
        "outputId": "87081166-2b65-48f0-fccb-365abe0cf8d4"
      },
      "source": [
        "# Label count of type\n",
        "fdist = FreqDist(dataset.label)\n",
        "print(fdist)\n",
        "fdist.plot(10)"
      ],
      "execution_count": 116,
      "outputs": [
        {
          "output_type": "stream",
          "text": [
            "<FreqDist with 3 samples and 1056 outcomes>\n"
          ],
          "name": "stdout"
        },
        {
          "output_type": "display_data",
          "data": {
            "image/png": "[encoded data removed]",
            "text/plain": [
              "<Figure size 432x288 with 1 Axes>"
            ]
          },
          "metadata": {
            "tags": [],
            "needs_background": "light"
          }
        }
      ]
    },
    {
      "cell_type": "code",
      "metadata": {
        "id": "hDmeW_WEPtwF",
        "colab_type": "code",
        "colab": {}
      },
      "source": [
        "# StatisticsFunction\n",
        "from nltk.probability import FreqDist\n",
        "def stat(data):\n",
        "  new_corpus = []\n",
        "  for review in data:\n",
        "      review = review.split()\n",
        "      new_corpus.extend(review) \n",
        "  fdist = FreqDist(new_corpus)\n",
        "  print(fdist)\n",
        "  fdist.plot(10)"
      ],
      "execution_count": 117,
      "outputs": []
    },
    {
      "cell_type": "code",
      "metadata": {
        "id": "V8ELKmc6REdz",
        "colab_type": "code",
        "colab": {
          "base_uri": "https://localhost:8080/",
          "height": 323
        },
        "outputId": "bd37ebc2-f46f-4332-e04a-c365bad731e4"
      },
      "source": [
        "# Text count of word\n",
        "stat(dataset.text)"
      ],
      "execution_count": 118,
      "outputs": [
        {
          "output_type": "stream",
          "text": [
            "<FreqDist with 1860 samples and 10676 outcomes>\n"
          ],
          "name": "stdout"
        },
        {
          "output_type": "display_data",
          "data": {
            "image/png": "[encoded data removed]",
            "text/plain": [
              "<Figure size 432x288 with 1 Axes>"
            ]
          },
          "metadata": {
            "tags": [],
            "needs_background": "light"
          }
        }
      ]
    },
    {
      "cell_type": "markdown",
      "metadata": {
        "id": "96BFjDzWU5vS",
        "colab_type": "text"
      },
      "source": [
        "Preprocessing"
      ]
    },
    {
      "cell_type": "code",
      "metadata": {
        "id": "7KG4CPn6Mxfp",
        "colab_type": "code",
        "colab": {
          "base_uri": "https://localhost:8080/",
          "height": 51
        },
        "outputId": "e9bb5cf9-46af-497a-bd01-7ad02fabc729"
      },
      "source": [
        "# Cleaning data\n",
        "import nltk\n",
        "import re\n",
        "nltk.download(\"stopwords\")\n",
        "from nltk.corpus import stopwords\n",
        "from nltk.stem.porter import PorterStemmer\n",
        "\n",
        "corpus = []\n",
        "\n",
        "for review in dataset.values[:,0]:\n",
        "    review = re.sub(\"[^a-zA-Z]\", \" \", review)\n",
        "    review = re.sub(r'([A-Z])\\1+', lambda m: m.group(1),review,flags=re.IGNORECASE)\n",
        "    review = review.split()\n",
        "    ps = PorterStemmer()\n",
        "    review = [ps.stem(word) for word in review if word not in stopwords.words(\"english\")]\n",
        "    review = \" \".join(review)\n",
        "    corpus.append(review)"
      ],
      "execution_count": 119,
      "outputs": [
        {
          "output_type": "stream",
          "text": [
            "[nltk_data] Downloading package stopwords to /root/nltk_data...\n",
            "[nltk_data]   Package stopwords is already up-to-date!\n"
          ],
          "name": "stdout"
        }
      ]
    },
    {
      "cell_type": "code",
      "metadata": {
        "id": "VkS3mGnONO6x",
        "colab_type": "code",
        "colab": {
          "base_uri": "https://localhost:8080/",
          "height": 54
        },
        "outputId": "61060854-cd03-4356-bf3e-4def4c654321"
      },
      "source": [
        "print(corpus[0:10])"
      ],
      "execution_count": 127,
      "outputs": [
        {
          "output_type": "stream",
          "text": [
            "['thi song legandari', 'nice song', 'bilion view face rais eyebrow song deserv', 'nice video', 'who els imagin justin beiber sang song bedrom face role eye grine face sweat', 'I love video thi favourit song I love much smile face halo smile face halo smile face halo face steam nose anguish face face blow ki face blow ki face blow ki face blow ki grine cat face smile eye money bag money bag money bag briefcas glase crown graduat cap', 'damn two bilion view lok god man', 'justin voic god inhuman', 'heart ribon heart ribon heart ribon heart ribon heart ribon heart ribon heart ribon heart ribon heart ribon heart ribon heart ribon heart ribon heart ribon heart ribon heart ribon heart ribon heart ribon heart ribon heart ribon heart ribon heart ribon heart ribon heart ribon heart ribon heart ribon heart ribon heart ribon heart ribon heart ribon belhop bel', 'red heart plead face']\n"
          ],
          "name": "stdout"
        }
      ]
    },
    {
      "cell_type": "code",
      "metadata": {
        "id": "n42AYuArNo1R",
        "colab_type": "code",
        "colab": {
          "base_uri": "https://localhost:8080/",
          "height": 314
        },
        "outputId": "0d2fb401-c319-46a9-fe8d-cce6cd447c3e"
      },
      "source": [
        "stat(corpus)"
      ],
      "execution_count": 121,
      "outputs": [
        {
          "output_type": "stream",
          "text": [
            "<FreqDist with 1281 samples and 7081 outcomes>\n"
          ],
          "name": "stdout"
        },
        {
          "output_type": "display_data",
          "data": {
            "image/png": "[encoded data removed]",
            "text/plain": [
              "<Figure size 432x288 with 1 Axes>"
            ]
          },
          "metadata": {
            "tags": [],
            "needs_background": "light"
          }
        }
      ]
    },
    {
      "cell_type": "code",
      "metadata": {
        "id": "08vZ1LNEVY1a",
        "colab_type": "code",
        "colab": {}
      },
      "source": [
        "# Convert to vector\n",
        "from sklearn.feature_extraction.text import CountVectorizer\n",
        "cv = CountVectorizer(max_features=1000)\n",
        "X = cv.fit_transform(corpus)\n",
        "X = X.todense()"
      ],
      "execution_count": 122,
      "outputs": []
    },
    {
      "cell_type": "code",
      "metadata": {
        "id": "pvvfim82dqK3",
        "colab_type": "code",
        "colab": {
          "base_uri": "https://localhost:8080/",
          "height": 493
        },
        "outputId": "7602d502-0d6e-47f1-b691-7b3977109d78"
      },
      "source": [
        "print(X[0])"
      ],
      "execution_count": 123,
      "outputs": [
        {
          "output_type": "stream",
          "text": [
            "[[0 0 0 0 0 0 0 0 0 0 0 0 0 0 0 0 0 0 0 0 0 0 0 0 0 0 0 0 0 0 0 0 0 0 0 0\n",
            "  0 0 0 0 0 0 0 0 0 0 0 0 0 0 0 0 0 0 0 0 0 0 0 0 0 0 0 0 0 0 0 0 0 0 0 0\n",
            "  0 0 0 0 0 0 0 0 0 0 0 0 0 0 0 0 0 0 0 0 0 0 0 0 0 0 0 0 0 0 0 0 0 0 0 0\n",
            "  0 0 0 0 0 0 0 0 0 0 0 0 0 0 0 0 0 0 0 0 0 0 0 0 0 0 0 0 0 0 0 0 0 0 0 0\n",
            "  0 0 0 0 0 0 0 0 0 0 0 0 0 0 0 0 0 0 0 0 0 0 0 0 0 0 0 0 0 0 0 0 0 0 0 0\n",
            "  0 0 0 0 0 0 0 0 0 0 0 0 0 0 0 0 0 0 0 0 0 0 0 0 0 0 0 0 0 0 0 0 0 0 0 0\n",
            "  0 0 0 0 0 0 0 0 0 0 0 0 0 0 0 0 0 0 0 0 0 0 0 0 0 0 0 0 0 0 0 0 0 0 0 0\n",
            "  0 0 0 0 0 0 0 0 0 0 0 0 0 0 0 0 0 0 0 0 0 0 0 0 0 0 0 0 0 0 0 0 0 0 0 0\n",
            "  0 0 0 0 0 0 0 0 0 0 0 0 0 0 0 0 0 0 0 0 0 0 0 0 0 0 0 0 0 0 0 0 0 0 0 0\n",
            "  0 0 0 0 0 0 0 0 0 0 0 0 0 0 0 0 0 0 0 0 0 0 0 0 0 0 0 0 0 0 0 0 0 0 0 0\n",
            "  0 0 0 0 0 0 0 0 0 0 0 0 0 0 0 0 0 0 0 0 0 0 0 0 0 0 0 0 0 0 0 0 0 0 0 0\n",
            "  0 0 0 0 0 0 0 0 0 0 0 0 0 0 0 0 0 0 0 0 0 0 0 0 0 0 0 0 0 0 0 0 0 0 0 0\n",
            "  0 0 0 0 0 0 0 0 0 0 0 0 0 0 0 0 0 0 0 0 0 0 0 0 0 0 0 0 0 0 0 0 0 0 0 0\n",
            "  0 0 0 0 0 0 0 0 0 0 0 0 0 0 0 0 0 0 0 0 0 0 0 0 0 0 0 0 0 0 0 0 0 0 0 0\n",
            "  0 0 0 0 0 0 0 0 0 0 0 0 0 0 0 0 0 0 0 0 0 0 0 0 0 0 0 0 0 0 0 0 0 0 0 0\n",
            "  0 0 0 0 0 0 0 0 0 0 0 0 0 0 0 0 0 0 0 0 0 0 0 0 0 0 0 0 0 0 0 0 0 0 0 0\n",
            "  0 0 0 0 0 0 0 0 0 0 0 0 0 0 0 0 0 0 0 0 0 0 0 0 0 0 0 0 0 0 0 0 0 0 0 0\n",
            "  0 0 0 0 0 0 0 0 0 0 0 0 0 0 0 0 0 0 0 0 0 0 0 0 0 0 0 0 0 0 0 0 0 0 0 0\n",
            "  0 0 0 0 0 0 0 0 0 0 0 0 0 0 0 0 0 0 0 0 0 0 0 0 0 0 0 0 0 0 0 0 0 0 0 0\n",
            "  0 0 0 0 0 0 0 0 0 0 0 0 0 0 0 0 0 0 0 0 0 0 0 0 0 0 0 0 0 0 0 0 0 0 0 0\n",
            "  0 0 0 0 0 0 0 0 0 0 0 0 0 0 0 0 0 0 0 0 0 0 0 0 0 0 0 0 0 0 0 0 0 0 0 0\n",
            "  0 0 0 0 0 0 0 0 0 0 0 1 0 0 0 0 0 0 0 0 0 0 0 0 0 0 0 0 0 0 0 0 0 0 0 0\n",
            "  0 0 0 0 0 0 0 0 0 0 0 0 0 0 0 0 0 0 0 0 0 0 0 0 0 0 0 0 0 0 0 0 0 0 0 0\n",
            "  0 0 0 0 0 0 0 0 0 0 0 0 0 0 0 0 0 0 0 0 1 0 0 0 0 0 0 0 0 0 0 0 0 0 0 0\n",
            "  0 0 0 0 0 0 0 0 0 0 0 0 0 0 0 0 0 0 0 0 0 0 0 0 0 0 0 0 0 0 0 0 0 0 0 0\n",
            "  0 0 0 0 0 0 0 0 0 0 0 0 0 0 0 0 0 0 0 0 0 0 0 0 0 0 0 0 0 0 0 0 0 0 0 0\n",
            "  0 0 0 0 0 0 0 0 0 0 0 0 0 0 0 0 0 0 0 0 0 0 0 0 0 0 0 0 0 0 0 0 0 0 0 0\n",
            "  0 0 0 0 0 0 0 0 0 0 0 0 0 0 0 0 0 0 0 0 0 0 0 0 0 0 0 0]]\n"
          ],
          "name": "stdout"
        }
      ]
    },
    {
      "cell_type": "markdown",
      "metadata": {
        "id": "VDfEIS8hzi2K",
        "colab_type": "text"
      },
      "source": [
        "Building Model"
      ]
    },
    {
      "cell_type": "code",
      "metadata": {
        "id": "ndMyMbxPtIgL",
        "colab_type": "code",
        "colab": {
          "base_uri": "https://localhost:8080/",
          "height": 1000
        },
        "outputId": "d0ca1418-1091-4c42-ee98-15a148d7f9f1"
      },
      "source": [
        "# Trainning model with cross validation\n",
        "from sklearn.linear_model import LogisticRegression\n",
        "from sklearn.svm import SVC\n",
        "from sklearn.model_selection import StratifiedShuffleSplit\n",
        "\n",
        "Y = dataset.iloc[:,1].values\n",
        "sss = StratifiedShuffleSplit(n_splits=10, test_size=0.2, random_state=0)\n",
        "sss.get_n_splits(X,Y)\n",
        "\n",
        "maxscore_1 = 0\n",
        "maxscore_2 = 0\n",
        "trainset1 = []\n",
        "testset1 = []\n",
        "trainset2 = []\n",
        "testset2 = []\n",
        "for train_index, test_index in sss.split(X,Y):\n",
        "      X_train, X_test = X[train_index], X[test_index]\n",
        "      Y_train, Y_test = Y[train_index], Y[test_index]\n",
        "\n",
        "      model_1 = LogisticRegression(random_state=0)\n",
        "      model_1.fit(X_train, Y_train)\n",
        "    \n",
        "      model_2 = SVC(kernel='linear')\n",
        "      model_2.fit(X_train, Y_train)\n",
        "      \n",
        "      if (maxscore_1 < model_1.score(X_test, Y_test)):\n",
        "          maxscore_1 = model_1.score(X_test, Y_test)\n",
        "          trainset1 = [train_index] \n",
        "          testset1 = [test_index]\n",
        "      if (maxscore_2 < model_2.score(X_test, Y_test)):\n",
        "          maxscore_2 = model_2.score(X_test, Y_test)\n",
        "          trainset2 = [train_index]\n",
        "          testset2 = [test_index]\n",
        "          \n",
        "      print(\"Logistic\")\n",
        "      print(model_1.score(X_train, Y_train))\n",
        "      print(model_1.score(X_test, Y_test))\n",
        "      \n",
        "      print(\"Support Vector Machine\")\n",
        "      print(model_2.score(X_train, Y_train))\n",
        "      print(model_2.score(X_test, Y_test))\n",
        "      "
      ],
      "execution_count": 124,
      "outputs": [
        {
          "output_type": "stream",
          "text": [
            "Logistic\n",
            "0.9727488151658767\n",
            "0.8113207547169812\n",
            "Support Vector Machine\n",
            "0.9739336492890995\n",
            "0.8207547169811321\n",
            "Logistic\n",
            "0.9691943127962085\n",
            "0.7830188679245284\n",
            "Support Vector Machine\n",
            "0.9774881516587678\n",
            "0.7783018867924528\n",
            "Logistic\n",
            "0.9774881516587678\n",
            "0.7311320754716981\n",
            "Support Vector Machine\n",
            "0.9834123222748815\n",
            "0.7311320754716981\n",
            "Logistic\n",
            "0.9727488151658767\n",
            "0.8113207547169812\n",
            "Support Vector Machine\n",
            "0.9786729857819905\n",
            "0.7783018867924528\n",
            "Logistic\n",
            "0.9691943127962085\n",
            "0.7924528301886793\n",
            "Support Vector Machine\n",
            "0.981042654028436\n",
            "0.7594339622641509\n",
            "Logistic\n",
            "0.9680094786729858\n",
            "0.7735849056603774\n",
            "Support Vector Machine\n",
            "0.9739336492890995\n",
            "0.7641509433962265\n",
            "Logistic\n",
            "0.9715639810426541\n",
            "0.7924528301886793\n",
            "Support Vector Machine\n",
            "0.9739336492890995\n",
            "0.7783018867924528\n",
            "Logistic\n",
            "0.9739336492890995\n",
            "0.8018867924528302\n",
            "Support Vector Machine\n",
            "0.9798578199052133\n",
            "0.7877358490566038\n",
            "Logistic\n",
            "0.9751184834123223\n",
            "0.8018867924528302\n",
            "Support Vector Machine\n",
            "0.9834123222748815\n",
            "0.7830188679245284\n",
            "Logistic\n",
            "0.9691943127962085\n",
            "0.7641509433962265\n",
            "Support Vector Machine\n",
            "0.9680094786729858\n",
            "0.7547169811320755\n"
          ],
          "name": "stdout"
        }
      ]
    },
    {
      "cell_type": "code",
      "metadata": {
        "id": "y13j7oLEtXXA",
        "colab_type": "code",
        "colab": {
          "base_uri": "https://localhost:8080/",
          "height": 697
        },
        "outputId": "acd1564a-e04b-40f3-b97b-943bcfef2cee"
      },
      "source": [
        "print(testset1)\n",
        "print(testset2)"
      ],
      "execution_count": null,
      "outputs": [
        {
          "output_type": "stream",
          "text": [
            "[array([ 730,  572,  591,  358,  127,  974,  911,  285,  404,  581,  544,\n",
            "        731,  211,  520,  458, 1019,  954,  969,  735,  739,  877,  823,\n",
            "         25,  910,  452,   39,  876,  420,  968,  630,  941,  915,  174,\n",
            "       1050,  840,   28,  589,  742,  942,  856,  621,  918,   31,  901,\n",
            "        881,  468,  770,    9,  192,  119,  549,  798,  265,  147,   84,\n",
            "        681,  481,  716,  185,  845,  496,  643,  449,  323,  183,  121,\n",
            "        820,  243,  837, 1053, 1054,  997,   91,  356,  290,  702,  431,\n",
            "        557, 1045,  896,  888,  195,  873,  530,   70,  244, 1035,  596,\n",
            "        273,  904,  359,  774,  484,  822,  905,  594,  131,  919,  337,\n",
            "        844,  828,  670,  423,  585,  335,  277,  809,  105,  662,  676,\n",
            "        692,  761, 1002,  446,  661,  388,  571,  677,  165,  177,  696,\n",
            "        338,  242,  808,  607,  613,  801,  835,  976,  292,  841,  117,\n",
            "        389,  861,   47,  472,  203,  752,  128,  524,  703,  683,  617,\n",
            "        444,   88,  688,  398,  587,  983,  465,   72,  595,  767,  448,\n",
            "        480,  396,  892,  262,  555,  267,   87,  376,  202,  115,   57,\n",
            "        321,  197,   38,   53,  996,  724,  588,  962,  874,  502,  193,\n",
            "        854,  384,  603,  291,  866,  151,  646,  454,  314,  432,  324,\n",
            "         42,   82,  462,  442,  464,  671,  180,  163,  251,  853,  435,\n",
            "        704,   32,   99,  939,  333,  705,  257,  288,  536,  991,  172,\n",
            "        616,  656,  370])]\n",
            "[array([ 730,  572,  591,  358,  127,  974,  911,  285,  404,  581,  544,\n",
            "        731,  211,  520,  458, 1019,  954,  969,  735,  739,  877,  823,\n",
            "         25,  910,  452,   39,  876,  420,  968,  630,  941,  915,  174,\n",
            "       1050,  840,   28,  589,  742,  942,  856,  621,  918,   31,  901,\n",
            "        881,  468,  770,    9,  192,  119,  549,  798,  265,  147,   84,\n",
            "        681,  481,  716,  185,  845,  496,  643,  449,  323,  183,  121,\n",
            "        820,  243,  837, 1053, 1054,  997,   91,  356,  290,  702,  431,\n",
            "        557, 1045,  896,  888,  195,  873,  530,   70,  244, 1035,  596,\n",
            "        273,  904,  359,  774,  484,  822,  905,  594,  131,  919,  337,\n",
            "        844,  828,  670,  423,  585,  335,  277,  809,  105,  662,  676,\n",
            "        692,  761, 1002,  446,  661,  388,  571,  677,  165,  177,  696,\n",
            "        338,  242,  808,  607,  613,  801,  835,  976,  292,  841,  117,\n",
            "        389,  861,   47,  472,  203,  752,  128,  524,  703,  683,  617,\n",
            "        444,   88,  688,  398,  587,  983,  465,   72,  595,  767,  448,\n",
            "        480,  396,  892,  262,  555,  267,   87,  376,  202,  115,   57,\n",
            "        321,  197,   38,   53,  996,  724,  588,  962,  874,  502,  193,\n",
            "        854,  384,  603,  291,  866,  151,  646,  454,  314,  432,  324,\n",
            "         42,   82,  462,  442,  464,  671,  180,  163,  251,  853,  435,\n",
            "        704,   32,   99,  939,  333,  705,  257,  288,  536,  991,  172,\n",
            "        616,  656,  370])]\n"
          ],
          "name": "stdout"
        }
      ]
    },
    {
      "cell_type": "code",
      "metadata": {
        "id": "UOqCmNmqtzIc",
        "colab_type": "code",
        "colab": {
          "base_uri": "https://localhost:8080/",
          "height": 173
        },
        "outputId": "1f6574bc-2883-45fb-d969-ee9a16808a57"
      },
      "source": [
        "# Building Model\n",
        "X_train, X_test= X[trainset1], X[testset1]\n",
        "Y_train, Y_test= Y[trainset1], Y[testset1]\n",
        "\n",
        "model_1 = LogisticRegression(random_state=0)\n",
        "model_1.fit(X_train, Y_train)   \n",
        "model_2 = SVC(kernel='linear')\n",
        "model_2.fit(X_train, Y_train)"
      ],
      "execution_count": null,
      "outputs": [
        {
          "output_type": "stream",
          "text": [
            "/usr/local/lib/python3.6/dist-packages/numpy/matrixlib/defmatrix.py:195: FutureWarning: Using a non-tuple sequence for multidimensional indexing is deprecated; use `arr[tuple(seq)]` instead of `arr[seq]`. In the future this will be interpreted as an array index, `arr[np.array(seq)]`, which will result either in an error or a different result.\n",
            "  out = N.ndarray.__getitem__(self, index)\n",
            "/usr/local/lib/python3.6/dist-packages/ipykernel_launcher.py:3: FutureWarning: Using a non-tuple sequence for multidimensional indexing is deprecated; use `arr[tuple(seq)]` instead of `arr[seq]`. In the future this will be interpreted as an array index, `arr[np.array(seq)]`, which will result either in an error or a different result.\n",
            "  This is separate from the ipykernel package so we can avoid doing imports until\n"
          ],
          "name": "stderr"
        },
        {
          "output_type": "execute_result",
          "data": {
            "text/plain": [
              "SVC(C=1.0, break_ties=False, cache_size=200, class_weight=None, coef0=0.0,\n",
              "    decision_function_shape='ovr', degree=3, gamma='scale', kernel='linear',\n",
              "    max_iter=-1, probability=False, random_state=None, shrinking=True,\n",
              "    tol=0.001, verbose=False)"
            ]
          },
          "metadata": {
            "tags": []
          },
          "execution_count": 113
        }
      ]
    },
    {
      "cell_type": "markdown",
      "metadata": {
        "id": "TMU62govy3VT",
        "colab_type": "text"
      },
      "source": [
        "Result"
      ]
    },
    {
      "cell_type": "code",
      "metadata": {
        "id": "NI8PPDYUjZrH",
        "colab_type": "code",
        "colab": {
          "base_uri": "https://localhost:8080/",
          "height": 119
        },
        "outputId": "dc727603-719a-4783-9a5f-d418e12b6b35"
      },
      "source": [
        "# Score\n",
        "print(\"Logistic\")\n",
        "print(model_1.score(X_train, Y_train))\n",
        "print(model_1.score(X_test, Y_test))\n",
        "print(\"Support Vector Machine\")\n",
        "print(model_2.score(X_train, Y_train))\n",
        "print(model_2.score(X_test, Y_test))"
      ],
      "execution_count": null,
      "outputs": [
        {
          "output_type": "stream",
          "text": [
            "logistic\n",
            "0.9727488151658767\n",
            "0.8113207547169812\n",
            "Support Vector Machine\n",
            "0.9739336492890995\n",
            "0.8207547169811321\n"
          ],
          "name": "stdout"
        }
      ]
    },
    {
      "cell_type": "code",
      "metadata": {
        "id": "ZqyWC3pqkSUV",
        "colab_type": "code",
        "colab": {
          "base_uri": "https://localhost:8080/",
          "height": 357
        },
        "outputId": "11a1735f-da49-4247-fdff-783b8dfcfd6e"
      },
      "source": [
        "# Classification Report\n",
        "y_pred_1 = model_1.predict(X_test)\n",
        "y_pred_2 = model_2.predict(X_test)\n",
        "from sklearn.metrics import classification_report\n",
        "print(\"Logistic\")\n",
        "print(classification_report(Y_test, y_pred_1, labels=[1, 2, 3]))\n",
        "print(\"Support Vector Machine\")\n",
        "print(classification_report(Y_test, y_pred_2, labels=[1, 2, 3]))"
      ],
      "execution_count": null,
      "outputs": [
        {
          "output_type": "stream",
          "text": [
            "              precision    recall  f1-score   support\n",
            "\n",
            "           1       0.87      0.85      0.86       100\n",
            "           2       0.76      0.70      0.73        53\n",
            "           3       0.77      0.85      0.81        59\n",
            "\n",
            "    accuracy                           0.81       212\n",
            "   macro avg       0.80      0.80      0.80       212\n",
            "weighted avg       0.81      0.81      0.81       212\n",
            "\n",
            "              precision    recall  f1-score   support\n",
            "\n",
            "           1       0.87      0.86      0.86       100\n",
            "           2       0.77      0.70      0.73        53\n",
            "           3       0.78      0.86      0.82        59\n",
            "\n",
            "    accuracy                           0.82       212\n",
            "   macro avg       0.81      0.81      0.81       212\n",
            "weighted avg       0.82      0.82      0.82       212\n",
            "\n"
          ],
          "name": "stdout"
        }
      ]
    },
    {
      "cell_type": "code",
      "metadata": {
        "id": "2-BoMYkwxE9a",
        "colab_type": "code",
        "colab": {
          "base_uri": "https://localhost:8080/",
          "height": 153
        },
        "outputId": "ff6e35ce-4189-44ee-a8e0-5b22fa8be0a5"
      },
      "source": [
        "# Confusion matrix\n",
        "from sklearn.metrics import confusion_matrix\n",
        "cm1 = confusion_matrix(Y_test, y_pred_1)\n",
        "print(\"Logistic\")\n",
        "print(cm1)\n",
        "cm2 = confusion_matrix(Y_test, y_pred_2)\n",
        "print(\"Support Vector Machine\")\n",
        "print(cm2)"
      ],
      "execution_count": null,
      "outputs": [
        {
          "output_type": "stream",
          "text": [
            "Logistic\n",
            "[[85  7  8]\n",
            " [ 9 37  7]\n",
            " [ 4  5 50]]\n",
            "Support Vector Machine\n",
            "[[86  7  7]\n",
            " [ 9 37  7]\n",
            " [ 4  4 51]]\n"
          ],
          "name": "stdout"
        }
      ]
    }
  ]
}