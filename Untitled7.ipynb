{
  "nbformat": 4,
  "nbformat_minor": 0,
  "metadata": {
    "colab": {
      "name": "Untitled7.ipynb",
      "provenance": [],
      "collapsed_sections": []
    },
    "kernelspec": {
      "name": "python3",
      "display_name": "Python 3"
    },
    "accelerator": "GPU"
  },
  "cells": [
    {
      "cell_type": "markdown",
      "metadata": {
        "id": "M69MSD3dKvqC",
        "colab_type": "text"
      },
      "source": [
        "Reading Data & Statistics\n"
      ]
    },
    {
      "cell_type": "code",
      "metadata": {
        "id": "JsNnvEftKcNm",
        "colab_type": "code",
        "colab": {}
      },
      "source": [
        "# Readingdata\n",
        "import pandas as pd\n",
        "dataset=pd.read_csv(\"newdata.csv\")"
      ],
      "execution_count": null,
      "outputs": []
    },
    {
      "cell_type": "code",
      "metadata": {
        "id": "4SFsUZ60LGnp",
        "colab_type": "code",
        "colab": {
          "base_uri": "https://localhost:8080/",
          "height": 255
        },
        "outputId": "c5f307f5-7e6d-4f3d-be93-fe867784f72a"
      },
      "source": [
        "# Size\n",
        "print(dataset)"
      ],
      "execution_count": null,
      "outputs": [
        {
          "output_type": "stream",
          "text": [
            "                                                   text  label\n",
            "0                                This song is LEGANDARY      1\n",
            "1                                             Nice song      1\n",
            "2     billion views face with raised eyebrow this so...      1\n",
            "3                                            Nice video      1\n",
            "4     Who else imagined themselves being Justin beib...      1\n",
            "...                                                 ...    ...\n",
            "1051                      At it says I be watching porn      3\n",
            "1052                            I don t like you at all      3\n",
            "1053                                         disturbing      3\n",
            "1054            I came here only for dislake this video      3\n",
            "1055  we don t wanna see them do unholy things like ...      3\n",
            "\n",
            "[1056 rows x 2 columns]\n"
          ],
          "name": "stdout"
        }
      ]
    },
    {
      "cell_type": "code",
      "metadata": {
        "id": "3hdCqRO0R5lb",
        "colab_type": "code",
        "colab": {
          "base_uri": "https://localhost:8080/",
          "height": 293
        },
        "outputId": "a03184c0-47dc-4482-c79e-eddad317e457"
      },
      "source": [
        "# Label count of type\n",
        "fdist = FreqDist(dataset.label)\n",
        "print(fdist)\n",
        "fdist.plot(10)"
      ],
      "execution_count": null,
      "outputs": [
        {
          "output_type": "stream",
          "text": [
            "<FreqDist with 3 samples and 1056 outcomes>\n"
          ],
          "name": "stdout"
        },
        {
          "output_type": "display_data",
          "data": {
            "image/png": "[encoded data removed]",
            "text/plain": [
              "<Figure size 432x288 with 1 Axes>"
            ]
          },
          "metadata": {
            "tags": [],
            "needs_background": "light"
          }
        }
      ]
    },
    {
      "cell_type": "code",
      "metadata": {
        "id": "hDmeW_WEPtwF",
        "colab_type": "code",
        "colab": {}
      },
      "source": [
        "# StatisticsFunction\n",
        "from nltk.probability import FreqDist\n",
        "def stat(data):\n",
        "  new_corpus = []\n",
        "  for review in data:\n",
        "      review = review.split()\n",
        "      new_corpus.extend(review) \n",
        "  fdist = FreqDist(new_corpus)\n",
        "  print(fdist)\n",
        "  fdist.plot(10)"
      ],
      "execution_count": null,
      "outputs": []
    },
    {
      "cell_type": "code",
      "metadata": {
        "id": "V8ELKmc6REdz",
        "colab_type": "code",
        "colab": {
          "base_uri": "https://localhost:8080/",
          "height": 323
        },
        "outputId": "80aa610d-ea1f-48b5-992c-cc0cd14e48d2"
      },
      "source": [
        "# Text count of word\n",
        "stat(dataset.text)"
      ],
      "execution_count": null,
      "outputs": [
        {
          "output_type": "stream",
          "text": [
            "<FreqDist with 1860 samples and 10676 outcomes>\n"
          ],
          "name": "stdout"
        },
        {
          "output_type": "display_data",
          "data": {
            "image/png": "[encoded data removed]",
            "text/plain": [
              "<Figure size 432x288 with 1 Axes>"
            ]
          },
          "metadata": {
            "tags": [],
            "needs_background": "light"
          }
        }
      ]
    },
    {
      "cell_type": "markdown",
      "metadata": {
        "id": "96BFjDzWU5vS",
        "colab_type": "text"
      },
      "source": [
        "Preprocessing"
      ]
    },
    {
      "cell_type": "code",
      "metadata": {
        "id": "7KG4CPn6Mxfp",
        "colab_type": "code",
        "colab": {
          "base_uri": "https://localhost:8080/",
          "height": 51
        },
        "outputId": "3ffa63b3-7842-4807-8624-095225a2ca02"
      },
      "source": [
        "# Cleaning data\n",
        "import nltk\n",
        "import re\n",
        "nltk.download(\"stopwords\")\n",
        "from nltk.corpus import stopwords\n",
        "from nltk.stem.porter import PorterStemmer\n",
        "\n",
        "corpus = []\n",
        "\n",
        "for review in dataset.values[:,0]:\n",
        "    review = re.sub(\"[^a-zA-Z]\", \" \", review)\n",
        "    review = re.sub(r'([A-Z])\\1+', lambda m: m.group(1),review,flags=re.IGNORECASE)\n",
        "    review = review.split()\n",
        "    ps = PorterStemmer()\n",
        "    review = [ps.stem(word) for word in review if word not in stopwords.words(\"english\")]\n",
        "    review = \" \".join(review)\n",
        "    corpus.append(review)"
      ],
      "execution_count": null,
      "outputs": [
        {
          "output_type": "stream",
          "text": [
            "[nltk_data] Downloading package stopwords to /root/nltk_data...\n",
            "[nltk_data]   Package stopwords is already up-to-date!\n"
          ],
          "name": "stdout"
        }
      ]
    },
    {
      "cell_type": "code",
      "metadata": {
        "id": "VkS3mGnONO6x",
        "colab_type": "code",
        "colab": {
          "base_uri": "https://localhost:8080/",
          "height": 54
        },
        "outputId": "64f32051-89f0-499d-c1ee-c4851312fdd1"
      },
      "source": [
        "print(corpus)"
      ],
      "execution_count": null,
      "outputs": [
        {
          "output_type": "stream",
          "text": [
            "['thi song legandari', 'nice song', 'bilion view face rais eyebrow song deserv', 'nice video', 'who els imagin justin beiber sang song bedrom face role eye grine face sweat', 'I love video thi favourit song I love much smile face halo smile face halo smile face halo face steam nose anguish face face blow ki face blow ki face blow ki face blow ki grine cat face smile eye money bag money bag money bag briefcas glase crown graduat cap', 'damn two bilion view lok god man', 'justin voic god inhuman', 'heart ribon heart ribon heart ribon heart ribon heart ribon heart ribon heart ribon heart ribon heart ribon heart ribon heart ribon heart ribon heart ribon heart ribon heart ribon heart ribon heart ribon heart ribon heart ribon heart ribon heart ribon heart ribon heart ribon heart ribon heart ribon heart ribon heart ribon heart ribon heart ribon belhop bel', 'red heart plead face', 'bigest popstar aliv', 'love back day love god ba line god se beni blanco bronx', 'your voic preti', 'song enjoy', 'thumb red heart colis ring', 'nice video If sen coment legend I I wil give year luck', 'alway love stil', 'not bieber fan thi IS A cri for help pedofil IN the holywod industri are gona AL burn', 'justin bieber one direct selena gomez taylor swift ariana grand favourit', 'Hi justin bieber I love oh home OK love song I love one', 'what mean smile face heart eye smile face heart eye smile face heart eye smile face heart eye smile face heart eye', 'love justin biber', 'I love song red heart smile face heart eye OK hand light skin tone', 'beauti', 'jesu love al red heart spend time He come back son here prayer lord jesu you are lord you are the son OF god I give MY life TO you wash ME IN your blod and lead ME O lord come into MY life I promis TO make you MY lord and savior I declar I AM A child OF the most high god NO weapon fashion against ME shal proper IN the might name OF jesu red heart hundr point smile face halo', 'thi song suck justin bieber', 'I love justin bieber smile face heart eye face blow ki smile face heart', 'My ear wow god song My eye kise A', 'get tire listen justin biber song', 'wink face face blow ki', 'love justin bieber al song especiali song babi song', 'hi new music god I like song', 'I love song much', 'extra thing ever sen', 'stil awesom song day', 'god justin', 'justin biber hot', 'I believ ben year sinc record song n I yo n I I fel like yesterday sparkl heart sparkl heart sparkl heart sparkl heart sparkl heart sparkl heart sparkl heart', 'best year music', 'song stil god', 'someon tel peopl dislik beauti song video I don T understand whi I love thi song', 'I think song made becos song sound qualiti god love you justin beiber who love justin beiber like', 'al video chesi', 'I love music By way I name harley sori I fan girl lol blue heart blue heart blue heart face tear joy grine face sweat', 'stil masterpiec', 'He cute one ah', 'great song', 'god I year late I love song', 'old but g old', 'red heart', 'I alway come back song play repeat totali obses', 'smile face heart eye smile face heart eye face savor fod face savor fod face savor fod OH', 'We love justin bieber', 'mom I reali love song mean justin bieber u show music video Me', 'day justin purpos album rule gobal music', 'the music sound reali god', 'god', 'you best', 'far fav song', 'smile face heart eye smile face heart eye', 'justin I love you reali I mi I cri', 'I love song', 'best motion song great ba', 'col', 'colest guy planet', 'We love u ur bigest fan', 'thi song old I stil like', 'I love U justin smile face heart eye smile face heart eye heart suit', 'I love', 'thi song god u know', 'I love justin bieber', 'I love song forev', 'perfect era JB', 'hey nice music long ago music', 'ki mark purpl heart', 'I love much smile face heart eye smile face heart eye smile face heart eye smile face heart eye smile face heart eye smile face heart eye smile face heart eye smile face heart eye smile face heart eye face blow ki face blow ki face blow ki face blow ki face blow ki face blow ki face blow ki face blow ki face blow ki', 'love song', 'I like beat music I got listen wel danc red heart', 'grine face smile face heart eye kise face smile eye red heart huge face huge face huge face huge face huge face huge face huge face', 'ilumin boy', 'like hair justin beauti', 'imagin justin bieber give year ago but strong kep go al problem suce I respect', 'love smile face heart eye smile face heart eye justin bieber', 'I love', 'one best period music', 'perfect', 'I love song whole life red heart red heart red heart', 'smile face heart eye', 'veri hapi', 'smile face heart eye smile face heart eye smile face heart eye smile face heart eye', 'love jb', 'love jastin victori hand medium light skin tone red heart', 'love', 'love song', 'jastin bieber red heart red heart red heart red heart red heart', 'smile face sunglas smile face sunglas headphon headphon thumb thumb', 'what mean sori love when thre came life god red heart', 'I like song', 'thi prime time', 'I love face blow ki', 'wow justin bieber', 'love justin bieber', 'love', 'love justin bieber persev face persev face persev face', 'He cute video like hair nice', 'He awesom alway respect girl lyric', 'wow like song', 'So god song favoritesong heart suit heart suit', 'the best song ever I love justin talent beauti voic god ble smile face heart eye', 'thi great song OK hand OK hand red heart red heart', 'thumb thumb thumb thumb thumb thumb thumb thumb', 'justin cute smile face heart eye I luv al song', 'I japanes I like song sparkl heart orang heart yelow heart gren heart blue heart purpl heart', 'thi first mv I watch I inoc', 'I love justin bieber purpl heart red heart heart suit red heart purpl heart heart suit red heart purpl heart heart suit red heart purpl heart', 'I love song mean', 'smile face heart eye smile face heart eye smile face heart eye smile face heart eye smile face heart eye smile face heart eye smile face heart eye ki mark ki mark ki mark ki mark ki mark ki mark ki mark ki mark ki mark ki mark ki mark ki mark ki mark sparkl heart sparkl heart sparkl heart sparkl heart sparkl heart love', 'I sori beat god', 'justin bieber smal suces singer world becam legend', 'that favorit music', 'got say last part vid skate parti IS preti col', 'whi mani dislik the song god', 'I super fan voic amaz', 'My favorit song', 'despit everyth I stil like song', 'epic music justin agr show thumbnail', 'stil amaz red heart OK hand', 'I love thi song red heart red heart love from bangladesh red heart red heart', 'bro I rememb fav song I listen song year', 'best song', 'love', 'I like', 'awesom', 'I love justin bieber sinc lok tik tok sara', 'I love justin bieber sou brasileira grow heart grow heart grow heart grow heart grow heart sou sua fa', 'It famou song', 'justin name song mean justin god one', 'Hi justin best', 'I love song like al song justin red heart smile face heart eye', 'justin bieber kep ON danc I like IT same thing', 'I love justin rose ki mark', 'belieb heart arow heart arow heart arow heart arow heart arow heart arow heart arow heart arow purpl heart purpl heart purpl heart purpl heart purpl heart purpl heart purpl heart purpl heart smile face heart eye smile face heart eye smile face heart eye smile face heart eye two heart smile face heart eye two heart two heart red heart red heart red heart red heart sparkl heart sparkl heart', 'beauti red heart red heart red heart red heart red heart red heart red heart red heart red heart red heart red heart red heart red heart red heart red heart red heart sparkl heart sparkl heart sparkl heart sparkl heart smile face heart eye smile face heart eye smile face heart eye smile face heart eye', 'ugh I love thi song SM', 'I love you', 'I like music OK hand OK hand OK hand', 'Mi song favorita smile face heart eye', 'love', 'one favourit song smile face smile eye', 'I love bieber', 'I love much song amaz smile face heart eye smile face heart eye smile face heart eye face blow ki kise face close eye face blow ki smile face heart eye', 'justin bieber I love I love music', 'music perfect victori hand medium light skin tone red heart smile face heart eye', 'I love amaz voic', 'beauti word wonder song creativ factori I love botom heart', 'you lok col', 'I l say favorit justin name', 'that nice song face blow ki', 'love justin', 'He handsom', 'love u justin', 'I cant lie god day song came', 'I watch sinc I grine face sweat', 'Im come vietnam like justin bieber showmuch', 'justin bieber hot sexi smile face heart eye smile face heart face blow ki', 'song stil best Do u agr', 'what mean I love song', 'love kid smile face smile eye', 'smile face sunglas smile face sunglas smile face sunglas smile face sunglas', 'I love justin biber smile face heart eye smile face heart eye smile face heart eye red heart red heart red heart red heart red heart red heart red heart red heart red heart red heart red heart red heart', 'oh gosh I literali love justin bieber video hot smile face heart eye smile face heart eye smile face heart eye', 'By far justin best haircut', 'fcking awesom', 'He best music', 'I love smile face heart eye', 'I love song', 'I love justin bieber from bangladesh bangladesh', 'super thumb', 'what mean red heart listen I love song', 'He hot fire fire fire', 'your song wonder', 'the end col', 'best', 'I love song simg car', 'It god song', 'thi best', 'wow beat heart beat heart beat heart beat heart beat heart beat heart heart arow', 'I love much favorit singer come colombia red heart red heart red heart sparkl heart face blow ki face blow ki smile face heart eye smile face heart eye two heart', 'I love song much beam face smile eye beam face smile eye beam face smile eye grine face grine face grine face', 'It impos hate damn talent fire', 'I like ki scene', 'I like al song lot love nepal nepal nepal nepal nepal', 'one best song world', 'I love music', 'It amaz smile face heart blue heart', 'catchi tune', 'nice song', 'I love justin bieber heavi heart exclam heavi heart exclam heavi heart exclam heavi heart exclam', 'hey justin I love u I', 'love music', 'smile face heart eye lovebreq', 'justin song point love amaz pop singer', 'I love music video point justin thank amaz pop singer', 'red heart red heart', 'nice love', 'wow', 'I love song blue heart red heart face blow ki', 'handsom sia justin bieber', 'the best song', 'Lo ove', 'justin beiber love much want met covid', 'alov lhi song', 'I love justin two heart lock key', 'love justin', 'you favorit singer', 'justin biber I love', 'god song', 'thi song heart touch feal song who els agr', 'nice', 'handsom boy', 'love u jb', 'that col question mean', 'red heart red heart red heart red heart red heart', 'the song nice OK hand thumb hundr point hundr point backhand index point backhand index point', 'love jb', 'I love mean', 'He col', 'super song col song', 'I love you famou sparkl heart two heart I love song I love', 'stil love song', 'love u justin bieber smile face heart eye smile face heart eye', 'omg god', 'like justin bieber', 'I love thi song So much that I have listen It over time If you find My coment In k coment you are A legend', 'veri love song', 'I love song name yeah I got yum yum yum yum I think bank', 'god', 'love song singer red heart smile face heart eye heart ribon star struck smile face heart eye red heart smile face heart eye red heart smile face heart eye red heart smile face heart eye red heart smile face heart eye', 'JB alway legend AL time love from india', 'love se vid grown much mare lucki girl say hi probloy wont wil freak out', 'friend what favorit song Me u mean friend what favorit song Me what DO you mean friend mean Me what DO U mean IS what I mean freind what mean mean Me play song both us face tear joy face tear joy face tear joy face tear joy face tear joy', 'art', 'bro thi f song ever mean', 'justen best singer one beter', 'nice', 'love smile face heart eye', 'sir cute handsom singer smile face smile eye smile face smile eye smile face smile eye', 'justin bieber best', 'ilov', 'the best song justin', 'god song', 'I love justin best', 'I love justin god luck futur activ', 'I I love song heavi heart exclam age mean wink face', 'wow face blow ki smile face heart eye smile face heart eye OK hand', 'nice song OK hand nice video shot play buton balot box check', 'wow face open mouth song beuti I love song', 'god song', 'thi handsom col lok justin agr it fact', 'god norway', 'that col smile face sunglas cowboy hat face face blow ki', 'HE IS gorgeou', 'suce justin', 'nice loke bro I impr', 'I love justin bieber', 'So col', 'great', 'wow album god dont know hapen recent song', 'justin bieber greatest singer ever', 'love', 'red heart red heart red heart', 'thi song god rhythm grine face smile eye grine face smile eye grine face smile eye', 'beauti song idea friend beauti bye', 'domin lovesong', 'Hi malaysia like', 'I love justin v', 'wow gopopd', 'wow god', 'love sparkl heart sparkl heart sparkl heart', 'best song ever im level bro love gestur light skin tone', 'I love vyou mor jesten', 'love much favoti song', 'probabl best song JB natur simpl pure', 'you best justin bieber', 'col pro love', 'dope', 'justin bieber like incred', 'love smile face heart eye smile face heart eye smile face heart eye smile face heart eye face blow ki', 'who love justin bieber', 'most colest person histori', 'I love duda justin bieber purpl heart purpl heart purpl heart smile face heart eye smile face heart eye smile face heart eye face blow ki face blow ki face blow ki', 'great song ever', 'legend', 'idol', 'forev fav', 'justin bieber love love', 'My frv song', 'I lovet', 'I love red heart', 'thi best comeback song ever', 'I love song grine cat face smile eye grine cat face smile cat face heart eye', 'you legend', 'wake everyday song stil get bore sayin', 'justin I love you', 'justin bieber kinda crush', 'A best song', 'omg stil best song back year may stil watch smile face heart eye face savor fod', 'I love much justin bieber', 'I love justin bieber red heart red heart fold hand', 'I mi thi justin the one WE AL fel IN love with MY first love', 'omg I love justin', 'I like music', 'love song', 'the best OF justin bieber', 'thi song motiv love', 'veri god clape hand clape hand', 'sound fresh everi year great justin B', 'justin bieber I love', 'awesom smile face heart eye smile face heart eye smile face heart eye smile face heart eye smile face heart eye smile face heart eye smile face heart eye smile face heart eye smile face heart eye thumb thumb thumb thumb thumb thumb', 'love song legit red heart red heart', 'col nice awesom song music video im new youtub pleas subcrib chanel thank yal', 'I like justin bieber red heart red heart red heart ki mark ki mark', 'I love justin biber give heart pli I fan I love wil come argentina pli answer', 'Jb hot', 'love india red heart red heart red heart', 'you amaz', 'hi big hit', 'justin bieber inspir', 'purpos best album one best decad', 'one favourit song purpos tour reliev face heart suit', 'when realiz song help medicin', 'love song chang life forev red heart red heart red heart smile face heart eye smile face heart eye smile face smile eye smile face smile face heart eye sparkl heart grow heart grow heart sparkl heart red heart red heart smile face heart eye sparkl heart sparkl heart red heart sparkl heart heart ribon heart suit smile face heart eye', 'best singer', 'whi mani dislik thi god song video awesom', 'justin bieber superb song best red heart revolv heart red heart revolv heart red heart revolv heart red heart revolv heart red heart red heart revolv heart', 'love song', 'I love song it biber stil Al col red heart OK hand light skin tone face tear joy red heart OK hand light skin tone', 'nice one song', 'onli god song', 'hi love song vibeo andyou', 'let se mani peopl se wonder song', 'I I love much love I want', 'thumb thumb', 'So love song', 'I like justin bieber music music note', 'U god song', 'I like smile face heart eye', 'thi god song like al song one ture statement love ya jb', 'So neat thumb', 'We love justin heavi heart exclam blue heart Am india', 'My al time favorit one', 'king pop period', 'thi song stil lure', 'king pop reason', 'handsom', 'favourit video red heart red heart', 'love u bro', 'love', 'bilion view song wow astonish face astonish face', 'I reali like video I reali want ki lip', 'My name tyson I know name name justin bieber favorit singer whole wide world', 'you favorit singer whole wide world I wish could get coment son yeah se later justin bieber also eight year old I boy', 'let honest music vid beter anyth justin wil ever', 'I love', 'I like song yumi', 'justin bieber perfect person', 'best comeback song ever', 'there one like justin planet justin what mean peopl We mean best singer ever born justin I wil kick', 'justin bieber god love', 'I like song fantast music', 'So fuckin god song', 'I love cri face', 'one favorit song such god voic energi red heart', 'okay', 'coler song', 'great job justin biter', 'like', 'beuti babi', 'beauti drop ever red heart I proud muself belieb red heart red heart red heart', 'I love justin red heart red heart red heart', 'impos forget song', 'you favorit singer whole wide world I wish I could se', 'you favorit', 'justin biber col hut love much justin', 'justin bieber col', 'lobe justin love song babi', 'I love justin bieber', 'I like music', 'omg justin bieber omg love song cale mean', 'SO col I wana like em D', 'love u', 'the best song ever plead face smile face heart someon els', 'l love song grine face smile eye', 'I love justin I love', 'col song', 'I love song', 'wow girl hot', 'I love justin', 'amaz song ever justin bieber best', 'justin best singer I ever sen', 'I like justin bieber song', 'mani stil think beiber stil handsom guy face tear joy face tear joy face tear joy face tear joy', 'So amaz super star glow star', 'I viet nam I fel god', 'beat heart', 'best music ive ever heard', 'JB idol', 'omg ilov u justin bieber', 'love way smile', 'ur sexi smile face heart eye I I love u', 'I watch I like', 'hyoid music awsom', 'you cute smile face heart eye', 'thi best song justin', 'A god song right love', 'awesom song smile face smile eye smile face smile eye smile face smile eye smile face smile eye smile face smile eye smile face smile eye', 'love red heart', 'love zxnx', 'We love justin', 'I love music ki mark', 'I love music video I fan', 'omg like thingi music video', 'Jb forev', 'love', 'I like justin bieber dat much', 'I love song', 'col col cute', 'love gestur love gestur love gestur love gestur', 'wow music video', 'who watch video awesom right let hug subscrib smile face heart smile face heart eye smile face heart smile face heart eye', 'I love music', 'she beauti girl', 'I love', 'you best justin drew bieber', 'thi interest music video', 'one fav song ever ever', 'such god song', 'L like song justin bieber', 'justin love', 'love u bieber love u core heart that time beauti cuten you just unbeat fashion style I reali impres', 'what So col song', 'jastin beauti boy', 'I love U U are mine', 'Ok song', 'I like song music note music note smile face heart eye smile face heart eye woman danc woman danc', 'I algeria I love u justin', 'He hot video', 'love justen algerian love', 'So love mor eswt', 'So love song', 'hotest justin bieber smile face heart eye smile face heart eye mouth mouth mouth', 'nice song like', 'omg love hear im smile face halo ki mark mouth', 'Is I one watch fabul song', 'My fav song al time', 'one favorit song love song thumb thumb thumb red heart', 'justin bieber I love much babi mouth mouth mouth mouth mouth mouth mouth ki mark ki mark ki mark ki mark love gestur love gestur love gestur love gestur love gestur love gestur love gestur love gestur love gestur se evil monkey se evil monkey se evil monkey se evil monkey se evil monkey sign horn sign horn sign horn sign horn sign horn orang heart orang heart orang heart yelow heart orang heart', 'reali I like song', 'Is reali talent I think u understand', 'I love justin red heart', 'legend', 'I like song much even lyric I I repeat hope', 'lok amaz', 'hot star', 'like like like', 'I hugest fan I love', 'I bigest fan world', 'I love reali god', 'now king pop michael jeckson', 'He handsom', 'actuali watch whole video think apropri', 'ansowm perfect hxi', 'justn bieber I love you SO mach two heart two heart two heart smile face heart eye smile face heart eye heart suit heart suit heart suit music note music note sparkl heart ki mark', 'I luv u justin red heart', 'aw I love u justin', 'I love song red heart', 'song wil forev legendari beat heart', 'My favourit song', 'It reali one best song and I reali enjoy listen quarantin', 'My fav singer red heart', 'luve justin bieberso much', 'thi video song best amaz corpar mv', 'love justinbeb red heart thumb ki mark smile face heart smile face heart eye face blow ki smile cat face heart eye', 'My favorit idol song what Do you mean yeah justin bieber forev fan super So god love gestur grine squint face red heart', 'I love justin', 'can stand dude I give prop great song hi best sure', 'thi song god close eye fel song love smile face heart smile face heart smile face heart smile face heart', 'thi man awesom He sing great great person I inspir I make origin song today I upload song sufer corona pleas listen subscrib like', 'love bro', 'A love', 'justin beauti perfect person world red heart plead face crown', 'best comeback song ever', 'I love justin bieber becaus music I hope go lok jamfish fisher thank never give dream stil dream gete star ned help thank read bye', 'IT fantast', 'justin bieber lov', 'He cute hot', 'He lok much beter healthier', 'what mean I love', 'same cant beliv lol like old', 'It competit zayn time believ grown white heart', 'what pizag', 'damn imagin hailey wife loke', 'when realis guy justin bieber met stret sid ice age', 'I pizag clue', 'apar song secret mesag', 'I realiz song', 'when realiz song help kid away dep state', 'I rememb ex everytim heard song', 'how song relat pizag', 'So sad tri tel us piza gate', 'thi video relat pizag', 'anyon pizag', 'I believ song old', 'So mani kise', 'that gril lucki', 'anonym enter chat', 'the girl wear bikini kidnap dre chang kidnap don make fol', 'that girl mother', 'whenev I listen sem like new', 'hailey watch eye mouth eye rais back hand', 'imagin awkward film', 'plan reali suce', 'plot twist justin alway made ever sinc', 'thi girl super sexi', 'did make difer version', 'He lok like jackpoul', 'I realiz I straight I want ki justin bieber BE justin bieber', 'whi justin take shirt', 'first get kidnap parti face monocl I stand pl tel coment', 'justin talk bipolar girl', 'I realiz justin bieber like subscrib singer', 'how old video', 'I gona watch bart baker', 'that sister', 'beib trap', 'the fact girl music video mari kid loudli cri face loudli cri face red heart red heart', 'when shake head No wana say ye what mean', 'shout codi dockoa', 'anonym', 'joke', 'the girl gete atack justin bieber literali sing rober', 'when realiz whole video justin problem banana banana nice one dude know bilion peopl saw right role flor laugh', 'I believ song old', 'shortest movi ever', 'justin bieber know anonym', 'yeah In never understand clip she prostitut girlfriend', 'they tast music difer along mod swing ley what mean', 'anonym lol', 'thi song like minut fel like whole movi', 'girl', 'dang clock make think fast time goe loudli cri face I believ song almost year old', 'stil dont get stori', 'thi song tel stori western countri peopl think love noth without fuck they love sex mani young boy girl lose virgin young age St valentin teach love mariag', 'At get pant', 'when kidnap wrong person', 'when ask girlfriend want eat tonight say whatev like reject al sugest time', 'Am one understand stori song', 'the song start long intro btw', 'what wife think', 'I lok like justin bieber', 'Am I one get super mario vibe flute part song', 'I understand stori', 'I know john legizamo video lol', 'It tok back skate day', 'what song even mean', 'wa like escap rom someth', 'sound like new ladi gaga song rain melodi bit similar', 'imagin stage kidnap girlfriend romant', 'what special song', 'whi alway push him bed', 'did anyon justin wear calvin klein undi lol role flor laugh', 'Ok get cloth back kidnap did say put cloth let go bitch lol', 'thi video sponsor clavin klein', 'thi song men like', 'whe never knew meant', 'imagin hailey bieber reaction watch thi', 'what name girl', 'who girl', 'If I girl I forgiv', 'how mani time justin chang hairstyl', 'did anyon know one wrote song ariana grand', 'who girl kep kise justin bieber', 'she like baeuti selina gomez', 'So song girl get unl pay first whi tel leav the time paid justin what mean', 'lok like penywis', 'lmao definit tok warm bodi grine squint face god way lmao', 'I realiz selena', 'fun fact ki plane that girl randomli kise', 'whi talk fact girl prostitut did pay lol', 'realiz hapi jam song sad u listen lyric', 'when singl watch clip cri face tear joy loudli cri face', 'doe anybodi know reali mean', 'I know justin biber girl bed', 'thi video make sens I gona watch anyway', 'Me finali understand song Oh ah', 'justin bieber lok like elen starter kit', 'oh understand mani justin knew plan aswel lol', 'how get hard', 'who musician song', 'lok like kendal', 'pleas fold hand tel girl name song think face', 'thi song reali woman know want like say one thing oposit face tear joy', 'serious watch bazilion time realiz hacker kidnap came like u notic wel', 'So plan get pant kidnap danc parti', 'straight guy treat wel face rais eyebrow face rais eyebrow face rais eyebrow', 'im preti sure woman wil sixti say kise justin bieber everyon met', 'I never notic expens lighter like damn', 'dua lipa dont pick phone ariana grand I pick drake use cal celphon justin bieber u mean', 'japanes caption', 'what ki mark ki', 'thi song bilion view', 'just found song releas birthday august', 'whi view mv got bilion thousand coment', 'thi song remind the purg mask', 'thi music video justin bieber teach us give ur gf surpris', 'justin girl hot', 'I gete concept video anyon tel', 'beter make pure mind justin mean', 'that clock stil tick mind', 'when I listen song I wigl much', 'harem king', 'there someon bomb I scare racist lol', 'I wil supris', 'girl use mind cloth stupid dre like also ned use mind', 'girl begin', 'how went yumi', 'girl', 'girl gete atack random dude justin site what dO you mean', 'what swag fire', 'Um I kid alow watch kise movi um blame', 'that girl must lucki', 'I rememb music video play ten nick My mom smack', 'when u tel justin wil never exist u mean', 'who girl reali want know long time model name', 'justin jump window dor dO you trust mE her node jump So smart', 'you guy know girl year older justin bieber', 'I think lok hapi strugl lot mental health isu', 'guy know girl video xenia deli she mari year old bilionair year older It kinda crazi think gold diger', 'make movi', 'bart baker song greater grine face sweat grine face sweat', 'produc how much auto tune want justin ye', 'I ship', 'I know want se spot face tongu', 'best fight ever face tear joy', 'everytim se math problem', 'the nostalgi strong one', 'saw dude john wick', 'I wonder film thing', 'the vietnames version beter', 'start play form sped paus video exactli hit wil se saw lok girl son hit sped', 'play sped yo wil se sen', 'I bet stil mani girl jealou face tear joy', 'I thought girl seleana gomez', 'omg I notic someth If put slo motion lok background say selena you measur often se big S elena fear face anxiou face sweat cri face', 'I wana girl', 'know wat kind underwear ur wear everyday', 'lom person bege justin bieber the voic sid ice age', 'comentario', 'when justin children watch music video wil like dad aw hot sexi girl mom justin Oh Um yeah video right long time ago justin wait get children let watch hot video NO hate just what I felt while watch thi repeatedli', 'thi song childhod role flor laugh', 'We stil know mean', 'who girl', 'show justin kind guy make sure definit make girl date', 'He broke face face tear joy', 'thumbnail difer crack', 'she lacki', 'lok like jake paul thumbnail lmao', 'video especiali sponsor calvin klein', 'the reason I search vietnames version', 'when dk know mean vid face tear joy face tear joy', 'hapen expres', 'the pictur song lok like morgz', 'who girl video', 'hel hermin granger musicvideo', 'I think mask thief want girl', 'thi song should Be cale what your problem', 'half video make', 'what girl name', 'one girlfriend get new one make mind', 'can somebodi pleas tel girl name Is', 'wht name', 'whi alway think video writen indian indian think old face tear joy face tear joy', 'jealou girl', 'what girl name', 'when german peopl say I mean', 'quater world sen video', 'We al know thi song selena heart suit', 'notic fale person stunt man femal costum', 'what purpos music video', 'So basicali kidnap prostitut take skate parti', 'name girl', 'Is sponsor calvin klein', 'He lok like canadian singer justin bieber astonish face', 'thi song contain percent nuditi', 'I alow watch I litl cuz apar rude I get', 'fel like I watch calvin klein comerci', 'okay like wish girl', 'OK realis dirti mind face tear joy', 'He lok like morgz video xD', 'I gues song selena gomez', 'what guy gave justin', 'how ki', 'I wish justin make kind music', 'remov mustach lok charm without', 'and want hot clip tho face tear joy bada', 'I heard song long time stuck In head omg I ned TO rest', 'stil listen song june', 'note everyon se get song recomend search', 'cant believ child anymor like', 'who stil watch', 'who stil want girl video flush face', 'Be honest mani peopl watch arow', 'I think roy want life that mean', 'wel togeth', 'who stil listen rais back hand light skin tone', 'june stil watch', 'not', 'that girl lucki get chanc JB smile face', 'In open song loke like ash lynx banana fish lel', 'I wonder girl think omg IM kise justin beiber', 'I hear', 'who els listen march', 'like first time watch video right', 'If think long ago', 'I imagin wife reaction tho grine face sweat', 'your singer sexi', 'I fel old', 'whole lyric say girl modsw disord', 'I swear quarantin made play song', 'thi old apar think stil bop', 'but', 'Y al rememb everi girl crush', 'dam rememb al time I listen dam time goe quick', 'saw name selena wal', 'I cant believ', 'lmao anonym bust dor', 'U tel got fresh tato sleve', 'I saw litl calvin klein advertis slipe face tear joy', 'imagin gete girl MV', 'I fel like song came yester day', 'imagin year old fan post', 'who els thought aladin said trust take hand', 'alway ned girl', 'song teacher', 'I one come watch', 'consid girl video lucki lmao', 'old JB hit difer', 'kid trade video game schol', 'thi song complet almost year releas I believ', 'when mon say dish say wait cloth', 'listen car thought left blinker', 'anyon tel name model think face', 'cant beliv year old watch music video', 'Ah memori', 'I reali want brother', 'justin just trust Me aladin Is', 'I know old', 'He lok like morgz', 'there kid watch right', 'make thing justin', 'We ned girl insta', 'jealou', 'cring', 'justin bieber gay', 'creapi think song spear old august crazi', 'So weird', 'thi actuali preti toxic relationship I think wozi face', 'dislik smile face horn', 'who think video weird becaus weird stuf', 'He gona regret', 'No like', 'let exscus fact song repeat', 'exscus fact music video make sens', 'wft I I watch', 'hate kilongshlen', 'gave depres', 'bo hate nasti', 'f ck video', 'love kise girl one justin justin truth might gay', 'It fake', 'I hate justin bie', 'would cri saw video cuz almost sex model would listen cri', 'smirk face', 'dislik like face tongu thumb', 'I fel like im watch porn woman', 'EW song So nauseat face nauseat face', 'understand MV', 'gay', 'they getin freaki', 'No one literali one My year old self watch ew wtf mv porn', 'sex', 'the thing peopl other peopl music video l It nasti', 'I said ew', 'ican breath boy', 'Ew', 'the remix shit al garbag beat', 'mean video cringi dislik face without mouth', 'thi video wil like bane stripe', 'thumb light skin tone pout face thumb light skin tone tire face weari face', 'I hate', 'wtf', 'everyon love video simpli want dislik caus jb funi jealou hater cant se jb hit platform', 'justin suck', 'thi shit inapropri kid watch shit', 'lesbian', 'thi worst song I ever heard I heard lot song', 'I could hear someth beter bathrom', 'the best part song I mute', 'whi get e x ew', 'ew', 'teribl year', 'Is song porno', 'BO your trash', 'I stil jealou girl', 'your stupid', 'thi weirdest video world', 'ew', 'you gro', 'M dislik', 'I think song inapropri', 'gro justin beaver', 'use scare song memori plead face', 'thi inapropri', 'EW', 'thi I like justin bieber caus disgust', 'thi video IS inapropri', 'Ew part girl', 'anoth bore song sound like al rest', 'how TF u gay lok gay song', 'No mater mani year song exist stil suck like bieber', 'I uh EW', 'justin put loan mouth go get sick go get girlfriend germ', 'you dog', 'thi dizi face', 'Ew kise', 'how video age restrict make first part video', 'scare dog do everyth money murder I wil sue court peopl sen real face coward I l ruin ugli plan threaten blackmail', 'im stil jealou girl', 'cring dizi face dizi face', 'ok litl weird grimac face grimac face grimac face grimac face grimac face', 'dislik', 'that gro', 'you becar justin sometim boy get music video kep get pregnant', 'porn video', 'ugh hate song worst form justin bieber ugh music video drug ew tri hate reali like even video sori u think hate', 'what mean Me I mean gay', 'I like song also ugli', 'I think video cring', 'watch video', 'thi worst song I ever heard like disgust get nobe nauseat face face vomit', 'block O O', 'It crepi bad music lame video forev sound like popsicl music like music truck sele ice cream', 'what hel', 'I swear justin getin chek', 'like justin suck', 'music porn search', 'nostalg song sadli death mainstream pop', 'I hate nostalgia taken beter', 'skul crosbon skul crosbon skul crosbon skul crosbon skul crosbon klovan kiler', 'So song age restrict', 'justin bieber smal brain', 'milion hater man shruge man facepalm', 'I heard justin bieber racist I black', 'He just sex eW', 'I like sex part', 'wtf porno', 'what f k tire face tire face', 'aron carter son later beter fakin shit', 'Ew gro ya gro like ew', 'face scream fear angri face horn angri face horn angri face horn angri face horn pout face angri face nauseat face anguish face ziper mouth face', 'midl finger midl finger midl finger midl finger midl finger midl finger midl finger thumb midl finger midl finger midl finger midl finger midl finger midl finger midl finger', 'sex song', 'He lok teribl', 'wtf du', 'trash', 'thi scare', 'I hate justin bilberi', 'crazi', 'fear face face scream fear anxiou face sweat', 'famili friendli porn', 'justin bieber gay sexi weard', 'throwback I thought actual porn', 'bet peopl came rewatch porn part vid', 'garbag', 'wtf found porn youtub', 'your song suck swear', 'I want justin dead pleas', 'I hate peopl care stupid relationship selena I hate person', 'justin gayber', 'pervert', 'thi first last time im watch video', 'midl finger dark skin tone midl finger dark skin tone midl finger dark skin tone pile po pile po pile po midl finger dark skin tone midl finger dark skin tone midl finger dark skin tone midl finger dark skin tone midl finger dark skin tone midl finger dark skin tone', 'justin bieber failur live disown', 'justin bieber failur went hole', 'Go canada nobodi want', 'stupid', 'It expos sex', 'year ago I watch stil cring', 'Ew children', 'To honest horor shirtl ye girl half nake horor dislik', 'thi video make sens song bad', 'He disgust pout face face steam nose face vomit nauseat face kise end tongu tongu', 'lol sex', 'nob', 'stop', 'Ew gro', 'Um weird', 'and video ki ew', 'Ew ur face', 'pl unsubscrib', 'fuck', 'the thing I like song HE say the damn thing over and over', 'I hate al song justin bieber', 'hate lot', 'inst song porno', 'I bore I click song', 'worst song ever', 'It weird song five year old felt like releas yesterday astonish face', 'midl finger midl finger midl finger midl finger midl finger', 'thi probabl lot dislik probabl sex', 'your music suck', 'exist', 'porn', 'you dog H', 'probabl kil set', 'onli psychopath what mean', 'I thought wack hand dor what mean', 'nuditi video talent Le listen mean', 'stop kise', 'thi sux', 'wow pl stop', 'listen song check view like think heck boy becam famo bore song', 'thi song definit apropri kid', 'thi gay', 'kid fear face', 'just kid sing fuck like crazi', 'suck justen biveri', 'I alow watch video', 'To much bad scene', 'I sori sexual content don watch', 'My ear blede plz help', 'thi deserv dislik', 'whi age restrict', 'He gay', 'U mean gay', 'midl finger midl finger midl finger', 'sexual content report video', 'I bore kind video whi alway erotica show kind nice fele al I love sex al video bore Do somehow way show fel way bege U', 'actuali god', 'music video porn websit', 'watch music shit', 'your dumb', 'music', 'justin bieber I ugli dumb player', 'dislik u harda', 'hate you', 'teso music', 'thi post youtub', 'nob', 'clear evil clear ugli', 'and I thought I watch sextap', 'hah joke', 'shit', 'I came back say man lok gay af', 'report video sexual content', 'you know thi music iluminati angri face midl finger', 'let face fact thi video point there plot bore', 'whi kise front cam that pop', 'year porn', 'Ew I watch', 'are watch porn hub', 'honestli way inapropri kid', 'I hate like hate fan', 'thi video got much hate', 'nob nob nob', 'Ew sex', 'whi were they have sex', 'I wish I sen video I fel bad', 'damn lyric reali reali bad', 'thi video lame', 'thi video cri help', 'porn', 'thi kinda ew', 'like coment', 'thumb', 'justin bore reali bore', 'I hate action sex', 'wait what the fucq MD view what A shame becaus there are love what A stupid shame', 'you gay', 'gay', 'pervert', 'He gay', 'song voic pornhub', 'Is sexsual', 'omg face tear joy music video sex face tear joy red heart wtf', 'I l never understand concept fuck video', 'um vid doe', 'thumb thumb thumb', 'thi porno', 'Hm worst music video ever you have earn A dislik', 'justin hate first sight know', 'Is music video sex video', 'I watch short sex movi', 'I rememb freak go omg heck disgust watch video I eleven', 'peni', 'whole song bipolar', 'justin I saw video rude fan', 'kid watch video imedi click', 'the clip Is discust flip btw I grampa', 'mean porn', 'prostitut', 'thi suck', 'who els hate justin bieber', 'justin bieber mean Me I mean say shut F K mouth justin bieber', 'I hate love song', 'medic store what mean Me tri explain someth hr give fokin condom nob face tear joy', 'stori make fuck sens', 'gay', 'thi low key porno', 'she pise', 'just fart', 'justin bieber thumb', 'thi belong TO pronhub', 'sex porn', 'ugli', 'rubish video sex noth els', 'thi music video made sens ever face tear joy', 'veri inapropri age undr', 'gay', 'digust', 'sex wtf', 'like', 'can litl shit make anyth irelev forget trash sound onli bc found sound logic pro tol make musician', 'im stil pise unexpect kise scene da fuck', 'lack literatur youtub grabe clip must porn', 'I suicid', 'whole', 'justin your gay', 'what gay', 'thi music video suck', 'fuck', 'thi song totali bulshit could peopl love song', 'one person hate', 'kil', 'I like music', 'Ew', 'omg vid suck song frfr god f', 'justin ripe', 'kid are watch freak idiot midl finger light skin tone', 'how dare you have sex', 'EW EW stinki you have raib EW smeli', 'At say I watch porn', 'I like al', 'disturb', 'I came dislak video', 'wana se unholi thing like half video bro']\n"
          ],
          "name": "stdout"
        }
      ]
    },
    {
      "cell_type": "code",
      "metadata": {
        "id": "n42AYuArNo1R",
        "colab_type": "code",
        "colab": {
          "base_uri": "https://localhost:8080/",
          "height": 314
        },
        "outputId": "d41b6fae-cb6a-430f-8bf4-d8dd87869fe3"
      },
      "source": [
        "stat(corpus)"
      ],
      "execution_count": null,
      "outputs": [
        {
          "output_type": "stream",
          "text": [
            "<FreqDist with 1281 samples and 7081 outcomes>\n"
          ],
          "name": "stdout"
        },
        {
          "output_type": "display_data",
          "data": {
            "image/png": "[encoded data removed]",
            "text/plain": [
              "<Figure size 432x288 with 1 Axes>"
            ]
          },
          "metadata": {
            "tags": [],
            "needs_background": "light"
          }
        }
      ]
    },
    {
      "cell_type": "code",
      "metadata": {
        "id": "08vZ1LNEVY1a",
        "colab_type": "code",
        "colab": {}
      },
      "source": [
        "# Convert to vector\n",
        "from sklearn.feature_extraction.text import CountVectorizer\n",
        "cv = CountVectorizer(max_features=1000)\n",
        "X = cv.fit_transform(corpus)\n",
        "X = X.todense()"
      ],
      "execution_count": null,
      "outputs": []
    },
    {
      "cell_type": "code",
      "metadata": {
        "id": "pvvfim82dqK3",
        "colab_type": "code",
        "colab": {
          "base_uri": "https://localhost:8080/",
          "height": 493
        },
        "outputId": "6d61fc68-2651-43e6-e62d-0a0cffbcd01c"
      },
      "source": [
        "print(X[0])"
      ],
      "execution_count": null,
      "outputs": [
        {
          "output_type": "stream",
          "text": [
            "[[0 0 0 0 0 0 0 0 0 0 0 0 0 0 0 0 0 0 0 0 0 0 0 0 0 0 0 0 0 0 0 0 0 0 0 0\n",
            "  0 0 0 0 0 0 0 0 0 0 0 0 0 0 0 0 0 0 0 0 0 0 0 0 0 0 0 0 0 0 0 0 0 0 0 0\n",
            "  0 0 0 0 0 0 0 0 0 0 0 0 0 0 0 0 0 0 0 0 0 0 0 0 0 0 0 0 0 0 0 0 0 0 0 0\n",
            "  0 0 0 0 0 0 0 0 0 0 0 0 0 0 0 0 0 0 0 0 0 0 0 0 0 0 0 0 0 0 0 0 0 0 0 0\n",
            "  0 0 0 0 0 0 0 0 0 0 0 0 0 0 0 0 0 0 0 0 0 0 0 0 0 0 0 0 0 0 0 0 0 0 0 0\n",
            "  0 0 0 0 0 0 0 0 0 0 0 0 0 0 0 0 0 0 0 0 0 0 0 0 0 0 0 0 0 0 0 0 0 0 0 0\n",
            "  0 0 0 0 0 0 0 0 0 0 0 0 0 0 0 0 0 0 0 0 0 0 0 0 0 0 0 0 0 0 0 0 0 0 0 0\n",
            "  0 0 0 0 0 0 0 0 0 0 0 0 0 0 0 0 0 0 0 0 0 0 0 0 0 0 0 0 0 0 0 0 0 0 0 0\n",
            "  0 0 0 0 0 0 0 0 0 0 0 0 0 0 0 0 0 0 0 0 0 0 0 0 0 0 0 0 0 0 0 0 0 0 0 0\n",
            "  0 0 0 0 0 0 0 0 0 0 0 0 0 0 0 0 0 0 0 0 0 0 0 0 0 0 0 0 0 0 0 0 0 0 0 0\n",
            "  0 0 0 0 0 0 0 0 0 0 0 0 0 0 0 0 0 0 0 0 0 0 0 0 0 0 0 0 0 0 0 0 0 0 0 0\n",
            "  0 0 0 0 0 0 0 0 0 0 0 0 0 0 0 0 0 0 0 0 0 0 0 0 0 0 0 0 0 0 0 0 0 0 0 0\n",
            "  0 0 0 0 0 0 0 0 0 0 0 0 0 0 0 0 0 0 0 0 0 0 0 0 0 0 0 0 0 0 0 0 0 0 0 0\n",
            "  0 0 0 0 0 0 0 0 0 0 0 0 0 0 0 0 0 0 0 0 0 0 0 0 0 0 0 0 0 0 0 0 0 0 0 0\n",
            "  0 0 0 0 0 0 0 0 0 0 0 0 0 0 0 0 0 0 0 0 0 0 0 0 0 0 0 0 0 0 0 0 0 0 0 0\n",
            "  0 0 0 0 0 0 0 0 0 0 0 0 0 0 0 0 0 0 0 0 0 0 0 0 0 0 0 0 0 0 0 0 0 0 0 0\n",
            "  0 0 0 0 0 0 0 0 0 0 0 0 0 0 0 0 0 0 0 0 0 0 0 0 0 0 0 0 0 0 0 0 0 0 0 0\n",
            "  0 0 0 0 0 0 0 0 0 0 0 0 0 0 0 0 0 0 0 0 0 0 0 0 0 0 0 0 0 0 0 0 0 0 0 0\n",
            "  0 0 0 0 0 0 0 0 0 0 0 0 0 0 0 0 0 0 0 0 0 0 0 0 0 0 0 0 0 0 0 0 0 0 0 0\n",
            "  0 0 0 0 0 0 0 0 0 0 0 0 0 0 0 0 0 0 0 0 0 0 0 0 0 0 0 0 0 0 0 0 0 0 0 0\n",
            "  0 0 0 0 0 0 0 0 0 0 0 0 0 0 0 0 0 0 0 0 0 0 0 0 0 0 0 0 0 0 0 0 0 0 0 0\n",
            "  0 0 0 0 0 0 0 0 0 0 0 1 0 0 0 0 0 0 0 0 0 0 0 0 0 0 0 0 0 0 0 0 0 0 0 0\n",
            "  0 0 0 0 0 0 0 0 0 0 0 0 0 0 0 0 0 0 0 0 0 0 0 0 0 0 0 0 0 0 0 0 0 0 0 0\n",
            "  0 0 0 0 0 0 0 0 0 0 0 0 0 0 0 0 0 0 0 0 1 0 0 0 0 0 0 0 0 0 0 0 0 0 0 0\n",
            "  0 0 0 0 0 0 0 0 0 0 0 0 0 0 0 0 0 0 0 0 0 0 0 0 0 0 0 0 0 0 0 0 0 0 0 0\n",
            "  0 0 0 0 0 0 0 0 0 0 0 0 0 0 0 0 0 0 0 0 0 0 0 0 0 0 0 0 0 0 0 0 0 0 0 0\n",
            "  0 0 0 0 0 0 0 0 0 0 0 0 0 0 0 0 0 0 0 0 0 0 0 0 0 0 0 0 0 0 0 0 0 0 0 0\n",
            "  0 0 0 0 0 0 0 0 0 0 0 0 0 0 0 0 0 0 0 0 0 0 0 0 0 0 0 0]]\n"
          ],
          "name": "stdout"
        }
      ]
    },
    {
      "cell_type": "markdown",
      "metadata": {
        "id": "VDfEIS8hzi2K",
        "colab_type": "text"
      },
      "source": [
        "Building Model"
      ]
    },
    {
      "cell_type": "code",
      "metadata": {
        "id": "ndMyMbxPtIgL",
        "colab_type": "code",
        "colab": {
          "base_uri": "https://localhost:8080/",
          "height": 1000
        },
        "outputId": "ebdc2422-075d-458f-e2ab-bfda7e9329be"
      },
      "source": [
        "# Trainning model with cross validation\n",
        "from sklearn.linear_model import LogisticRegression\n",
        "from sklearn.svm import SVC\n",
        "from sklearn.model_selection import StratifiedShuffleSplit\n",
        "\n",
        "Y = dataset.iloc[:,1].values\n",
        "sss = StratifiedShuffleSplit(n_splits=10, test_size=0.2, random_state=0)\n",
        "sss.get_n_splits(X,Y)\n",
        "\n",
        "maxscore_1 = 0\n",
        "maxscore_2 = 0\n",
        "trainset1 = []\n",
        "testset1 = []\n",
        "trainset2 = []\n",
        "testset2 = []\n",
        "for train_index, test_index in sss.split(X,Y):\n",
        "      X_train, X_test = X[train_index], X[test_index]\n",
        "      Y_train, Y_test = Y[train_index], Y[test_index]\n",
        "\n",
        "      model_1 = LogisticRegression(random_state=0)\n",
        "      model_1.fit(X_train, Y_train)\n",
        "    \n",
        "      model_2 = SVC(kernel='linear')\n",
        "      model_2.fit(X_train, Y_train)\n",
        "      \n",
        "      if (maxscore_1 < model_1.score(X_test, Y_test)):\n",
        "          maxscore_1 = model_1.score(X_test, Y_test)\n",
        "          trainset1 = [train_index] \n",
        "          testset1 = [test_index]\n",
        "      if (maxscore_2 < model_2.score(X_test, Y_test)):\n",
        "          maxscore_2 = model_2.score(X_test, Y_test)\n",
        "          trainset2 = [train_index]\n",
        "          testset2 = [test_index]\n",
        "          \n",
        "      print(\"Logistic\")\n",
        "      print(model_1.score(X_train, Y_train))\n",
        "      print(model_1.score(X_test, Y_test))\n",
        "      \n",
        "      print(\"Support Vector Machine\")\n",
        "      print(model_2.score(X_train, Y_train))\n",
        "      print(model_2.score(X_test, Y_test))\n",
        "      "
      ],
      "execution_count": null,
      "outputs": [
        {
          "output_type": "stream",
          "text": [
            "logistic\n",
            "0.9727488151658767\n",
            "0.8113207547169812\n",
            "SVC kernel=linear\n",
            "0.9739336492890995\n",
            "0.8207547169811321\n",
            "logistic\n",
            "0.9691943127962085\n",
            "0.7830188679245284\n",
            "SVC kernel=linear\n",
            "0.9774881516587678\n",
            "0.7783018867924528\n",
            "logistic\n",
            "0.9774881516587678\n",
            "0.7311320754716981\n",
            "SVC kernel=linear\n",
            "0.9834123222748815\n",
            "0.7311320754716981\n",
            "logistic\n",
            "0.9727488151658767\n",
            "0.8113207547169812\n",
            "SVC kernel=linear\n",
            "0.9786729857819905\n",
            "0.7783018867924528\n",
            "logistic\n",
            "0.9691943127962085\n",
            "0.7924528301886793\n",
            "SVC kernel=linear\n",
            "0.981042654028436\n",
            "0.7594339622641509\n",
            "logistic\n",
            "0.9680094786729858\n",
            "0.7735849056603774\n",
            "SVC kernel=linear\n",
            "0.9739336492890995\n",
            "0.7641509433962265\n",
            "logistic\n",
            "0.9715639810426541\n",
            "0.7924528301886793\n",
            "SVC kernel=linear\n",
            "0.9739336492890995\n",
            "0.7783018867924528\n",
            "logistic\n",
            "0.9739336492890995\n",
            "0.8018867924528302\n",
            "SVC kernel=linear\n",
            "0.9798578199052133\n",
            "0.7877358490566038\n",
            "logistic\n",
            "0.9751184834123223\n",
            "0.8018867924528302\n",
            "SVC kernel=linear\n",
            "0.9834123222748815\n",
            "0.7830188679245284\n",
            "logistic\n",
            "0.9691943127962085\n",
            "0.7641509433962265\n",
            "SVC kernel=linear\n",
            "0.9680094786729858\n",
            "0.7547169811320755\n"
          ],
          "name": "stdout"
        }
      ]
    },
    {
      "cell_type": "code",
      "metadata": {
        "id": "y13j7oLEtXXA",
        "colab_type": "code",
        "colab": {
          "base_uri": "https://localhost:8080/",
          "height": 697
        },
        "outputId": "acd1564a-e04b-40f3-b97b-943bcfef2cee"
      },
      "source": [
        "print(testset1)\n",
        "print(testset2)"
      ],
      "execution_count": null,
      "outputs": [
        {
          "output_type": "stream",
          "text": [
            "[array([ 730,  572,  591,  358,  127,  974,  911,  285,  404,  581,  544,\n",
            "        731,  211,  520,  458, 1019,  954,  969,  735,  739,  877,  823,\n",
            "         25,  910,  452,   39,  876,  420,  968,  630,  941,  915,  174,\n",
            "       1050,  840,   28,  589,  742,  942,  856,  621,  918,   31,  901,\n",
            "        881,  468,  770,    9,  192,  119,  549,  798,  265,  147,   84,\n",
            "        681,  481,  716,  185,  845,  496,  643,  449,  323,  183,  121,\n",
            "        820,  243,  837, 1053, 1054,  997,   91,  356,  290,  702,  431,\n",
            "        557, 1045,  896,  888,  195,  873,  530,   70,  244, 1035,  596,\n",
            "        273,  904,  359,  774,  484,  822,  905,  594,  131,  919,  337,\n",
            "        844,  828,  670,  423,  585,  335,  277,  809,  105,  662,  676,\n",
            "        692,  761, 1002,  446,  661,  388,  571,  677,  165,  177,  696,\n",
            "        338,  242,  808,  607,  613,  801,  835,  976,  292,  841,  117,\n",
            "        389,  861,   47,  472,  203,  752,  128,  524,  703,  683,  617,\n",
            "        444,   88,  688,  398,  587,  983,  465,   72,  595,  767,  448,\n",
            "        480,  396,  892,  262,  555,  267,   87,  376,  202,  115,   57,\n",
            "        321,  197,   38,   53,  996,  724,  588,  962,  874,  502,  193,\n",
            "        854,  384,  603,  291,  866,  151,  646,  454,  314,  432,  324,\n",
            "         42,   82,  462,  442,  464,  671,  180,  163,  251,  853,  435,\n",
            "        704,   32,   99,  939,  333,  705,  257,  288,  536,  991,  172,\n",
            "        616,  656,  370])]\n",
            "[array([ 730,  572,  591,  358,  127,  974,  911,  285,  404,  581,  544,\n",
            "        731,  211,  520,  458, 1019,  954,  969,  735,  739,  877,  823,\n",
            "         25,  910,  452,   39,  876,  420,  968,  630,  941,  915,  174,\n",
            "       1050,  840,   28,  589,  742,  942,  856,  621,  918,   31,  901,\n",
            "        881,  468,  770,    9,  192,  119,  549,  798,  265,  147,   84,\n",
            "        681,  481,  716,  185,  845,  496,  643,  449,  323,  183,  121,\n",
            "        820,  243,  837, 1053, 1054,  997,   91,  356,  290,  702,  431,\n",
            "        557, 1045,  896,  888,  195,  873,  530,   70,  244, 1035,  596,\n",
            "        273,  904,  359,  774,  484,  822,  905,  594,  131,  919,  337,\n",
            "        844,  828,  670,  423,  585,  335,  277,  809,  105,  662,  676,\n",
            "        692,  761, 1002,  446,  661,  388,  571,  677,  165,  177,  696,\n",
            "        338,  242,  808,  607,  613,  801,  835,  976,  292,  841,  117,\n",
            "        389,  861,   47,  472,  203,  752,  128,  524,  703,  683,  617,\n",
            "        444,   88,  688,  398,  587,  983,  465,   72,  595,  767,  448,\n",
            "        480,  396,  892,  262,  555,  267,   87,  376,  202,  115,   57,\n",
            "        321,  197,   38,   53,  996,  724,  588,  962,  874,  502,  193,\n",
            "        854,  384,  603,  291,  866,  151,  646,  454,  314,  432,  324,\n",
            "         42,   82,  462,  442,  464,  671,  180,  163,  251,  853,  435,\n",
            "        704,   32,   99,  939,  333,  705,  257,  288,  536,  991,  172,\n",
            "        616,  656,  370])]\n"
          ],
          "name": "stdout"
        }
      ]
    },
    {
      "cell_type": "code",
      "metadata": {
        "id": "UOqCmNmqtzIc",
        "colab_type": "code",
        "colab": {
          "base_uri": "https://localhost:8080/",
          "height": 173
        },
        "outputId": "1f6574bc-2883-45fb-d969-ee9a16808a57"
      },
      "source": [
        "# Building Model\n",
        "X_train, X_test= X[trainset1], X[testset1]\n",
        "Y_train, Y_test= Y[trainset1], Y[testset1]\n",
        "\n",
        "model_1 = LogisticRegression(random_state=0)\n",
        "model_1.fit(X_train, Y_train)   \n",
        "model_2 = SVC(kernel='linear')\n",
        "model_2.fit(X_train, Y_train)"
      ],
      "execution_count": null,
      "outputs": [
        {
          "output_type": "stream",
          "text": [
            "/usr/local/lib/python3.6/dist-packages/numpy/matrixlib/defmatrix.py:195: FutureWarning: Using a non-tuple sequence for multidimensional indexing is deprecated; use `arr[tuple(seq)]` instead of `arr[seq]`. In the future this will be interpreted as an array index, `arr[np.array(seq)]`, which will result either in an error or a different result.\n",
            "  out = N.ndarray.__getitem__(self, index)\n",
            "/usr/local/lib/python3.6/dist-packages/ipykernel_launcher.py:3: FutureWarning: Using a non-tuple sequence for multidimensional indexing is deprecated; use `arr[tuple(seq)]` instead of `arr[seq]`. In the future this will be interpreted as an array index, `arr[np.array(seq)]`, which will result either in an error or a different result.\n",
            "  This is separate from the ipykernel package so we can avoid doing imports until\n"
          ],
          "name": "stderr"
        },
        {
          "output_type": "execute_result",
          "data": {
            "text/plain": [
              "SVC(C=1.0, break_ties=False, cache_size=200, class_weight=None, coef0=0.0,\n",
              "    decision_function_shape='ovr', degree=3, gamma='scale', kernel='linear',\n",
              "    max_iter=-1, probability=False, random_state=None, shrinking=True,\n",
              "    tol=0.001, verbose=False)"
            ]
          },
          "metadata": {
            "tags": []
          },
          "execution_count": 113
        }
      ]
    },
    {
      "cell_type": "markdown",
      "metadata": {
        "id": "TMU62govy3VT",
        "colab_type": "text"
      },
      "source": [
        "Result"
      ]
    },
    {
      "cell_type": "code",
      "metadata": {
        "id": "NI8PPDYUjZrH",
        "colab_type": "code",
        "colab": {
          "base_uri": "https://localhost:8080/",
          "height": 119
        },
        "outputId": "dc727603-719a-4783-9a5f-d418e12b6b35"
      },
      "source": [
        "# Score\n",
        "print(\"Logistic\")\n",
        "print(model_1.score(X_train, Y_train))\n",
        "print(model_1.score(X_test, Y_test))\n",
        "print(\"Support Vector Machine\")\n",
        "print(model_2.score(X_train, Y_train))\n",
        "print(model_2.score(X_test, Y_test))"
      ],
      "execution_count": null,
      "outputs": [
        {
          "output_type": "stream",
          "text": [
            "logistic\n",
            "0.9727488151658767\n",
            "0.8113207547169812\n",
            "Support Vector Machine\n",
            "0.9739336492890995\n",
            "0.8207547169811321\n"
          ],
          "name": "stdout"
        }
      ]
    },
    {
      "cell_type": "code",
      "metadata": {
        "id": "ZqyWC3pqkSUV",
        "colab_type": "code",
        "colab": {
          "base_uri": "https://localhost:8080/",
          "height": 357
        },
        "outputId": "11a1735f-da49-4247-fdff-783b8dfcfd6e"
      },
      "source": [
        "# Classification Report\n",
        "y_pred_1 = model_1.predict(X_test)\n",
        "y_pred_2 = model_2.predict(X_test)\n",
        "from sklearn.metrics import classification_report\n",
        "print(\"Logistic\")\n",
        "print(classification_report(Y_test, y_pred_1, labels=[1, 2, 3]))\n",
        "print(\"Support Vector Machine\")\n",
        "print(classification_report(Y_test, y_pred_2, labels=[1, 2, 3]))"
      ],
      "execution_count": null,
      "outputs": [
        {
          "output_type": "stream",
          "text": [
            "              precision    recall  f1-score   support\n",
            "\n",
            "           1       0.87      0.85      0.86       100\n",
            "           2       0.76      0.70      0.73        53\n",
            "           3       0.77      0.85      0.81        59\n",
            "\n",
            "    accuracy                           0.81       212\n",
            "   macro avg       0.80      0.80      0.80       212\n",
            "weighted avg       0.81      0.81      0.81       212\n",
            "\n",
            "              precision    recall  f1-score   support\n",
            "\n",
            "           1       0.87      0.86      0.86       100\n",
            "           2       0.77      0.70      0.73        53\n",
            "           3       0.78      0.86      0.82        59\n",
            "\n",
            "    accuracy                           0.82       212\n",
            "   macro avg       0.81      0.81      0.81       212\n",
            "weighted avg       0.82      0.82      0.82       212\n",
            "\n"
          ],
          "name": "stdout"
        }
      ]
    },
    {
      "cell_type": "code",
      "metadata": {
        "id": "2-BoMYkwxE9a",
        "colab_type": "code",
        "colab": {
          "base_uri": "https://localhost:8080/",
          "height": 153
        },
        "outputId": "ff6e35ce-4189-44ee-a8e0-5b22fa8be0a5"
      },
      "source": [
        "# Confusion matrix\n",
        "from sklearn.metrics import confusion_matrix\n",
        "cm1 = confusion_matrix(Y_test, y_pred_1)\n",
        "print(\"Logistic\")\n",
        "print(cm1)\n",
        "cm2 = confusion_matrix(Y_test, y_pred_2)\n",
        "print(\"Support Vector Machine\")\n",
        "print(cm2)"
      ],
      "execution_count": null,
      "outputs": [
        {
          "output_type": "stream",
          "text": [
            "Logistic\n",
            "[[85  7  8]\n",
            " [ 9 37  7]\n",
            " [ 4  5 50]]\n",
            "Support Vector Machine\n",
            "[[86  7  7]\n",
            " [ 9 37  7]\n",
            " [ 4  4 51]]\n"
          ],
          "name": "stdout"
        }
      ]
    }
  ]
}